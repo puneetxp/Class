{
  "cells": [
    {
      "cell_type": "markdown",
      "metadata": {
        "id": "view-in-github",
        "colab_type": "text"
      },
      "source": [
        "<a href=\"https://colab.research.google.com/github/puneetxp/Class/blob/master/Machine%20Learning%20Basics.ipynb\" target=\"_parent\"><img src=\"https://colab.research.google.com/assets/colab-badge.svg\" alt=\"Open In Colab\"/></a>"
      ]
    },
    {
      "cell_type": "markdown",
      "metadata": {
        "id": "BKjIhKk81BgH"
      },
      "source": [
        "![DSL_logo](https://github.com/BrockDSL/Machine_Learning_with_Python/blob/master/dsl_logo.png?raw=1)\n",
        "\n",
        "# Introduction to Machine Learning with Python\n",
        "\n",
        "\n",
        "In our [Data Science](https://brockdsl.github.io/Python_2.0_Workshop/) workshop we introduced some concepts by looking at some fictional data about people that got sick with a mysterious illness. In this session we are going to see if we can build a machine learning model to see if we can predict who has the illness based on the answers to some questions.\n",
        "\n",
        "As a further exercise we'll setup two examples that try to guess the quality of wine. I encourage you to try out these examples after class is done.\n",
        "\n"
      ]
    },
    {
      "cell_type": "markdown",
      "metadata": {
        "id": "qFK_rhri1BgI"
      },
      "source": [
        "## First, a brief recap on Python code\n",
        "\n",
        "The following code should look familiar to you"
      ]
    },
    {
      "cell_type": "code",
      "execution_count": 19,
      "metadata": {
        "id": "yVrsEg0Z1BgI",
        "outputId": "1d9a5339-e09a-4798-906d-d0b8e7862e48",
        "colab": {
          "base_uri": "https://localhost:8080/"
        }
      },
      "outputs": [
        {
          "output_type": "stream",
          "name": "stdout",
          "text": [
            "Ill or not?\n",
            "ill\n",
            "No     137861\n",
            "Yes     12139\n",
            "Name: city, dtype: int64\n",
            "\n",
            "Total records: 150000\n"
          ]
        }
      ],
      "source": [
        "import pandas as pd\n",
        "\n",
        "#Load the file into a dataframe using the pandas read_csv function\n",
        "data = pd.read_csv(\"https://brockdsl.github.io/Python_2.0_Workshop/canadian_toy_dataset.csv\")\n",
        "\n",
        "#Tell it what our columns are by passing along a list of that information\n",
        "data.columns = [\"city\",\"gender\",\"age\",\"income\",\"ill\"]\n",
        "\n",
        "print(\"Ill or not?\")\n",
        "print(data.groupby(\"ill\")[\"city\"].count())\n",
        "print(\"\\nTotal records:\", len(data))\n"
      ]
    },
    {
      "cell_type": "markdown",
      "metadata": {
        "id": "L5mFL_SM1BgJ"
      },
      "source": [
        "## Machine Learning Basics\n",
        "\n",
        "Don't let the impressive name fool you. Machine learning is more or less the following steps\n",
        "\n",
        "1. Getting your data and cleaning it up\n",
        "1. Identify what parts of your data are **features**\n",
        "1. Identify what is your **target variable** that you'll guess based on your features\n",
        "1. Split your data in **training and testing sets**\n",
        "1. **Train** your model against the training set\n",
        "1. **Validate** your model against the testing set\n",
        "1. ????\n",
        "1. Profit\n",
        "\n",
        "\n",
        "We are going to use the Python library [scikit-learn](https://scikit-learn.org/stable/) and we are going to be doing a [classification](https://en.wikipedia.org/wiki/Statistical_classification) problem.\n",
        "\n",
        "![classification](https://raw.githubusercontent.com/BrockDSL/Machine_Learning_with_Python/master/classification.png)\n"
      ]
    },
    {
      "cell_type": "markdown",
      "metadata": {
        "id": "FFEpmtCa1BgJ"
      },
      "source": [
        "## Decision Tree\n",
        "\n",
        "This is one of the most basic machine learning model you can use. It is considered a [supervised learning](https://en.wikipedia.org/wiki/Supervised_learning) method. You create the best [decision tree](https://en.wikipedia.org/wiki/Decision_tree_learning) that you can based on your training data. Here's an example tree that shows your chance of surviving the Titanic disaster. What we are creating is series of question that when answered will put observations into a _bucket_ or in other terms one of the classification options. We also devise a probability associated with an observation falling into that _bucket_.\n",
        "\n",
        "The features are described by the labels, however ``sibsp`` - is the number of spouses or siblings on board.\n",
        "\n",
        "![dtree](https://upload.wikimedia.org/wikipedia/commons/e/eb/Decision_Tree.jpg)\n",
        "\n",
        "\n",
        "So in this tree the most important question to ask first is what is the gender of the person you are considering, then next most important question is age above 9 and a half, followed lastly by, does this person have less than three spouses or siblings on board.\n"
      ]
    },
    {
      "cell_type": "markdown",
      "metadata": {
        "id": "kBmXkqcp1BgJ"
      },
      "source": [
        "Let's start by loading the Libraries we need"
      ]
    },
    {
      "cell_type": "code",
      "execution_count": 20,
      "metadata": {
        "id": "H7FVR3LE1BgJ",
        "outputId": "15b669d3-77ec-4347-a4fa-56482e7b9872",
        "colab": {
          "base_uri": "https://localhost:8080/"
        }
      },
      "outputs": [
        {
          "output_type": "stream",
          "name": "stdout",
          "text": [
            "Ready to proceed!\n"
          ]
        }
      ],
      "source": [
        "\n",
        "#This should look familar\n",
        "import pandas as pd\n",
        "#import numpy as np\n",
        "\n",
        "\n",
        "#We'll draw a graph later on\n",
        "import matplotlib.pyplot as plt\n",
        "\n",
        "#Our 'Machine Learning pieces'\n",
        "from sklearn.tree import DecisionTreeClassifier\n",
        "from sklearn.model_selection import train_test_split\n",
        "from sklearn.tree import export_text\n",
        "from sklearn import metrics\n",
        "from sklearn import tree\n",
        "\n",
        "print(\"Ready to proceed!\")"
      ]
    },
    {
      "cell_type": "markdown",
      "metadata": {
        "id": "Y_dCcAt91BgJ"
      },
      "source": [
        "## Getting the data ready\n",
        "\n",
        "Now, let's load our data. Our decision tree can only work with numerical values, so we'll have to modify the columns of data that are text based. As stated preparing the data is usually the most difficult part of the process."
      ]
    },
    {
      "cell_type": "code",
      "execution_count": 55,
      "metadata": {
        "id": "SchSpFv21BgJ",
        "outputId": "28318ac8-c27c-4035-d462-198eb8d24b8e",
        "colab": {
          "base_uri": "https://localhost:8080/",
          "height": 206
        }
      },
      "outputs": [
        {
          "output_type": "execute_result",
          "data": {
            "text/plain": [
              "       city gender  age  income ill\n",
              "0  Montreal   Male   41   40367  No\n",
              "1  Montreal   Male   54   45084  No\n",
              "2  Montreal   Male   42   52483  No\n",
              "3  Montreal   Male   40   40941  No\n",
              "4  Montreal   Male   46   50289  No"
            ],
            "text/html": [
              "\n",
              "  <div id=\"df-4440d8ae-df97-4cfa-90b0-cb513611564b\" class=\"colab-df-container\">\n",
              "    <div>\n",
              "<style scoped>\n",
              "    .dataframe tbody tr th:only-of-type {\n",
              "        vertical-align: middle;\n",
              "    }\n",
              "\n",
              "    .dataframe tbody tr th {\n",
              "        vertical-align: top;\n",
              "    }\n",
              "\n",
              "    .dataframe thead th {\n",
              "        text-align: right;\n",
              "    }\n",
              "</style>\n",
              "<table border=\"1\" class=\"dataframe\">\n",
              "  <thead>\n",
              "    <tr style=\"text-align: right;\">\n",
              "      <th></th>\n",
              "      <th>city</th>\n",
              "      <th>gender</th>\n",
              "      <th>age</th>\n",
              "      <th>income</th>\n",
              "      <th>ill</th>\n",
              "    </tr>\n",
              "  </thead>\n",
              "  <tbody>\n",
              "    <tr>\n",
              "      <th>0</th>\n",
              "      <td>Montreal</td>\n",
              "      <td>Male</td>\n",
              "      <td>41</td>\n",
              "      <td>40367</td>\n",
              "      <td>No</td>\n",
              "    </tr>\n",
              "    <tr>\n",
              "      <th>1</th>\n",
              "      <td>Montreal</td>\n",
              "      <td>Male</td>\n",
              "      <td>54</td>\n",
              "      <td>45084</td>\n",
              "      <td>No</td>\n",
              "    </tr>\n",
              "    <tr>\n",
              "      <th>2</th>\n",
              "      <td>Montreal</td>\n",
              "      <td>Male</td>\n",
              "      <td>42</td>\n",
              "      <td>52483</td>\n",
              "      <td>No</td>\n",
              "    </tr>\n",
              "    <tr>\n",
              "      <th>3</th>\n",
              "      <td>Montreal</td>\n",
              "      <td>Male</td>\n",
              "      <td>40</td>\n",
              "      <td>40941</td>\n",
              "      <td>No</td>\n",
              "    </tr>\n",
              "    <tr>\n",
              "      <th>4</th>\n",
              "      <td>Montreal</td>\n",
              "      <td>Male</td>\n",
              "      <td>46</td>\n",
              "      <td>50289</td>\n",
              "      <td>No</td>\n",
              "    </tr>\n",
              "  </tbody>\n",
              "</table>\n",
              "</div>\n",
              "    <div class=\"colab-df-buttons\">\n",
              "\n",
              "  <div class=\"colab-df-container\">\n",
              "    <button class=\"colab-df-convert\" onclick=\"convertToInteractive('df-4440d8ae-df97-4cfa-90b0-cb513611564b')\"\n",
              "            title=\"Convert this dataframe to an interactive table.\"\n",
              "            style=\"display:none;\">\n",
              "\n",
              "  <svg xmlns=\"http://www.w3.org/2000/svg\" height=\"24px\" viewBox=\"0 -960 960 960\">\n",
              "    <path d=\"M120-120v-720h720v720H120Zm60-500h600v-160H180v160Zm220 220h160v-160H400v160Zm0 220h160v-160H400v160ZM180-400h160v-160H180v160Zm440 0h160v-160H620v160ZM180-180h160v-160H180v160Zm440 0h160v-160H620v160Z\"/>\n",
              "  </svg>\n",
              "    </button>\n",
              "\n",
              "  <style>\n",
              "    .colab-df-container {\n",
              "      display:flex;\n",
              "      gap: 12px;\n",
              "    }\n",
              "\n",
              "    .colab-df-convert {\n",
              "      background-color: #E8F0FE;\n",
              "      border: none;\n",
              "      border-radius: 50%;\n",
              "      cursor: pointer;\n",
              "      display: none;\n",
              "      fill: #1967D2;\n",
              "      height: 32px;\n",
              "      padding: 0 0 0 0;\n",
              "      width: 32px;\n",
              "    }\n",
              "\n",
              "    .colab-df-convert:hover {\n",
              "      background-color: #E2EBFA;\n",
              "      box-shadow: 0px 1px 2px rgba(60, 64, 67, 0.3), 0px 1px 3px 1px rgba(60, 64, 67, 0.15);\n",
              "      fill: #174EA6;\n",
              "    }\n",
              "\n",
              "    .colab-df-buttons div {\n",
              "      margin-bottom: 4px;\n",
              "    }\n",
              "\n",
              "    [theme=dark] .colab-df-convert {\n",
              "      background-color: #3B4455;\n",
              "      fill: #D2E3FC;\n",
              "    }\n",
              "\n",
              "    [theme=dark] .colab-df-convert:hover {\n",
              "      background-color: #434B5C;\n",
              "      box-shadow: 0px 1px 3px 1px rgba(0, 0, 0, 0.15);\n",
              "      filter: drop-shadow(0px 1px 2px rgba(0, 0, 0, 0.3));\n",
              "      fill: #FFFFFF;\n",
              "    }\n",
              "  </style>\n",
              "\n",
              "    <script>\n",
              "      const buttonEl =\n",
              "        document.querySelector('#df-4440d8ae-df97-4cfa-90b0-cb513611564b button.colab-df-convert');\n",
              "      buttonEl.style.display =\n",
              "        google.colab.kernel.accessAllowed ? 'block' : 'none';\n",
              "\n",
              "      async function convertToInteractive(key) {\n",
              "        const element = document.querySelector('#df-4440d8ae-df97-4cfa-90b0-cb513611564b');\n",
              "        const dataTable =\n",
              "          await google.colab.kernel.invokeFunction('convertToInteractive',\n",
              "                                                    [key], {});\n",
              "        if (!dataTable) return;\n",
              "\n",
              "        const docLinkHtml = 'Like what you see? Visit the ' +\n",
              "          '<a target=\"_blank\" href=https://colab.research.google.com/notebooks/data_table.ipynb>data table notebook</a>'\n",
              "          + ' to learn more about interactive tables.';\n",
              "        element.innerHTML = '';\n",
              "        dataTable['output_type'] = 'display_data';\n",
              "        await google.colab.output.renderOutput(dataTable, element);\n",
              "        const docLink = document.createElement('div');\n",
              "        docLink.innerHTML = docLinkHtml;\n",
              "        element.appendChild(docLink);\n",
              "      }\n",
              "    </script>\n",
              "  </div>\n",
              "\n",
              "\n",
              "<div id=\"df-d7625847-020a-47ef-96a3-b26d6e608fa9\">\n",
              "  <button class=\"colab-df-quickchart\" onclick=\"quickchart('df-d7625847-020a-47ef-96a3-b26d6e608fa9')\"\n",
              "            title=\"Suggest charts\"\n",
              "            style=\"display:none;\">\n",
              "\n",
              "<svg xmlns=\"http://www.w3.org/2000/svg\" height=\"24px\"viewBox=\"0 0 24 24\"\n",
              "     width=\"24px\">\n",
              "    <g>\n",
              "        <path d=\"M19 3H5c-1.1 0-2 .9-2 2v14c0 1.1.9 2 2 2h14c1.1 0 2-.9 2-2V5c0-1.1-.9-2-2-2zM9 17H7v-7h2v7zm4 0h-2V7h2v10zm4 0h-2v-4h2v4z\"/>\n",
              "    </g>\n",
              "</svg>\n",
              "  </button>\n",
              "\n",
              "<style>\n",
              "  .colab-df-quickchart {\n",
              "      --bg-color: #E8F0FE;\n",
              "      --fill-color: #1967D2;\n",
              "      --hover-bg-color: #E2EBFA;\n",
              "      --hover-fill-color: #174EA6;\n",
              "      --disabled-fill-color: #AAA;\n",
              "      --disabled-bg-color: #DDD;\n",
              "  }\n",
              "\n",
              "  [theme=dark] .colab-df-quickchart {\n",
              "      --bg-color: #3B4455;\n",
              "      --fill-color: #D2E3FC;\n",
              "      --hover-bg-color: #434B5C;\n",
              "      --hover-fill-color: #FFFFFF;\n",
              "      --disabled-bg-color: #3B4455;\n",
              "      --disabled-fill-color: #666;\n",
              "  }\n",
              "\n",
              "  .colab-df-quickchart {\n",
              "    background-color: var(--bg-color);\n",
              "    border: none;\n",
              "    border-radius: 50%;\n",
              "    cursor: pointer;\n",
              "    display: none;\n",
              "    fill: var(--fill-color);\n",
              "    height: 32px;\n",
              "    padding: 0;\n",
              "    width: 32px;\n",
              "  }\n",
              "\n",
              "  .colab-df-quickchart:hover {\n",
              "    background-color: var(--hover-bg-color);\n",
              "    box-shadow: 0 1px 2px rgba(60, 64, 67, 0.3), 0 1px 3px 1px rgba(60, 64, 67, 0.15);\n",
              "    fill: var(--button-hover-fill-color);\n",
              "  }\n",
              "\n",
              "  .colab-df-quickchart-complete:disabled,\n",
              "  .colab-df-quickchart-complete:disabled:hover {\n",
              "    background-color: var(--disabled-bg-color);\n",
              "    fill: var(--disabled-fill-color);\n",
              "    box-shadow: none;\n",
              "  }\n",
              "\n",
              "  .colab-df-spinner {\n",
              "    border: 2px solid var(--fill-color);\n",
              "    border-color: transparent;\n",
              "    border-bottom-color: var(--fill-color);\n",
              "    animation:\n",
              "      spin 1s steps(1) infinite;\n",
              "  }\n",
              "\n",
              "  @keyframes spin {\n",
              "    0% {\n",
              "      border-color: transparent;\n",
              "      border-bottom-color: var(--fill-color);\n",
              "      border-left-color: var(--fill-color);\n",
              "    }\n",
              "    20% {\n",
              "      border-color: transparent;\n",
              "      border-left-color: var(--fill-color);\n",
              "      border-top-color: var(--fill-color);\n",
              "    }\n",
              "    30% {\n",
              "      border-color: transparent;\n",
              "      border-left-color: var(--fill-color);\n",
              "      border-top-color: var(--fill-color);\n",
              "      border-right-color: var(--fill-color);\n",
              "    }\n",
              "    40% {\n",
              "      border-color: transparent;\n",
              "      border-right-color: var(--fill-color);\n",
              "      border-top-color: var(--fill-color);\n",
              "    }\n",
              "    60% {\n",
              "      border-color: transparent;\n",
              "      border-right-color: var(--fill-color);\n",
              "    }\n",
              "    80% {\n",
              "      border-color: transparent;\n",
              "      border-right-color: var(--fill-color);\n",
              "      border-bottom-color: var(--fill-color);\n",
              "    }\n",
              "    90% {\n",
              "      border-color: transparent;\n",
              "      border-bottom-color: var(--fill-color);\n",
              "    }\n",
              "  }\n",
              "</style>\n",
              "\n",
              "  <script>\n",
              "    async function quickchart(key) {\n",
              "      const quickchartButtonEl =\n",
              "        document.querySelector('#' + key + ' button');\n",
              "      quickchartButtonEl.disabled = true;  // To prevent multiple clicks.\n",
              "      quickchartButtonEl.classList.add('colab-df-spinner');\n",
              "      try {\n",
              "        const charts = await google.colab.kernel.invokeFunction(\n",
              "            'suggestCharts', [key], {});\n",
              "      } catch (error) {\n",
              "        console.error('Error during call to suggestCharts:', error);\n",
              "      }\n",
              "      quickchartButtonEl.classList.remove('colab-df-spinner');\n",
              "      quickchartButtonEl.classList.add('colab-df-quickchart-complete');\n",
              "    }\n",
              "    (() => {\n",
              "      let quickchartButtonEl =\n",
              "        document.querySelector('#df-d7625847-020a-47ef-96a3-b26d6e608fa9 button');\n",
              "      quickchartButtonEl.style.display =\n",
              "        google.colab.kernel.accessAllowed ? 'block' : 'none';\n",
              "    })();\n",
              "  </script>\n",
              "</div>\n",
              "\n",
              "    </div>\n",
              "  </div>\n"
            ],
            "application/vnd.google.colaboratory.intrinsic+json": {
              "type": "dataframe",
              "variable_name": "data"
            }
          },
          "metadata": {},
          "execution_count": 55
        }
      ],
      "source": [
        "data = pd.read_csv(\"https://brockdsl.github.io/Python_2.0_Workshop/canadian_toy_dataset.csv\")\n",
        "data.columns = [\"city\",\"gender\",\"age\",\"income\",\"ill\"]\n",
        "data.head()"
      ]
    },
    {
      "cell_type": "markdown",
      "metadata": {
        "id": "Gu8EpEAk1BgJ"
      },
      "source": [
        "This dataset is fairly clean, we just need to represent it all as numbers instead of text labels. So that means we need to change the columns:\n",
        "\n",
        "\n",
        "- `ill` - instead of a No / Yes label we'll use 0 and 2 instead\n",
        "- `city` - this will break out the column into 8 different columns\n",
        "- `gender` - this will break out the column into 2 different columns\n",
        "\n",
        "\n"
      ]
    },
    {
      "cell_type": "code",
      "execution_count": 56,
      "metadata": {
        "scrolled": false,
        "id": "nYaj0CUr1BgK",
        "outputId": "7678aa94-1f0e-4966-d137-87a838672c8d",
        "colab": {
          "base_uri": "https://localhost:8080/",
          "height": 351
        }
      },
      "outputs": [
        {
          "output_type": "stream",
          "name": "stderr",
          "text": [
            "<ipython-input-56-f4adbdedff17>:4: FutureWarning: A value is trying to be set on a copy of a DataFrame or Series through chained assignment using an inplace method.\n",
            "The behavior will change in pandas 3.0. This inplace method will never work because the intermediate object on which we are setting values always behaves as a copy.\n",
            "\n",
            "For example, when doing 'df[col].method(value, inplace=True)', try using 'df.method({col: value}, inplace=True)' or df[col] = df[col].method(value) instead, to perform the operation inplace on the original object.\n",
            "\n",
            "\n",
            "  data[\"ill\"].replace({\"No\":0, \"Yes\":2},inplace=True)\n"
          ]
        },
        {
          "output_type": "execute_result",
          "data": {
            "text/plain": [
              "   age  income  ill  city_Edmonton  city_Halifax  city_Montreal  city_Ottawa  \\\n",
              "0   41   40367    0          False         False           True        False   \n",
              "1   54   45084    0          False         False           True        False   \n",
              "2   42   52483    0          False         False           True        False   \n",
              "3   40   40941    0          False         False           True        False   \n",
              "4   46   50289    0          False         False           True        False   \n",
              "\n",
              "   city_Regina  city_Toronto  city_Vancouver  city_Waterloo  gender_Female  \\\n",
              "0        False         False           False          False          False   \n",
              "1        False         False           False          False          False   \n",
              "2        False         False           False          False          False   \n",
              "3        False         False           False          False          False   \n",
              "4        False         False           False          False          False   \n",
              "\n",
              "   gender_Male  \n",
              "0         True  \n",
              "1         True  \n",
              "2         True  \n",
              "3         True  \n",
              "4         True  "
            ],
            "text/html": [
              "\n",
              "  <div id=\"df-5abb7a94-963f-4355-90ed-f9df4173fe9d\" class=\"colab-df-container\">\n",
              "    <div>\n",
              "<style scoped>\n",
              "    .dataframe tbody tr th:only-of-type {\n",
              "        vertical-align: middle;\n",
              "    }\n",
              "\n",
              "    .dataframe tbody tr th {\n",
              "        vertical-align: top;\n",
              "    }\n",
              "\n",
              "    .dataframe thead th {\n",
              "        text-align: right;\n",
              "    }\n",
              "</style>\n",
              "<table border=\"1\" class=\"dataframe\">\n",
              "  <thead>\n",
              "    <tr style=\"text-align: right;\">\n",
              "      <th></th>\n",
              "      <th>age</th>\n",
              "      <th>income</th>\n",
              "      <th>ill</th>\n",
              "      <th>city_Edmonton</th>\n",
              "      <th>city_Halifax</th>\n",
              "      <th>city_Montreal</th>\n",
              "      <th>city_Ottawa</th>\n",
              "      <th>city_Regina</th>\n",
              "      <th>city_Toronto</th>\n",
              "      <th>city_Vancouver</th>\n",
              "      <th>city_Waterloo</th>\n",
              "      <th>gender_Female</th>\n",
              "      <th>gender_Male</th>\n",
              "    </tr>\n",
              "  </thead>\n",
              "  <tbody>\n",
              "    <tr>\n",
              "      <th>0</th>\n",
              "      <td>41</td>\n",
              "      <td>40367</td>\n",
              "      <td>0</td>\n",
              "      <td>False</td>\n",
              "      <td>False</td>\n",
              "      <td>True</td>\n",
              "      <td>False</td>\n",
              "      <td>False</td>\n",
              "      <td>False</td>\n",
              "      <td>False</td>\n",
              "      <td>False</td>\n",
              "      <td>False</td>\n",
              "      <td>True</td>\n",
              "    </tr>\n",
              "    <tr>\n",
              "      <th>1</th>\n",
              "      <td>54</td>\n",
              "      <td>45084</td>\n",
              "      <td>0</td>\n",
              "      <td>False</td>\n",
              "      <td>False</td>\n",
              "      <td>True</td>\n",
              "      <td>False</td>\n",
              "      <td>False</td>\n",
              "      <td>False</td>\n",
              "      <td>False</td>\n",
              "      <td>False</td>\n",
              "      <td>False</td>\n",
              "      <td>True</td>\n",
              "    </tr>\n",
              "    <tr>\n",
              "      <th>2</th>\n",
              "      <td>42</td>\n",
              "      <td>52483</td>\n",
              "      <td>0</td>\n",
              "      <td>False</td>\n",
              "      <td>False</td>\n",
              "      <td>True</td>\n",
              "      <td>False</td>\n",
              "      <td>False</td>\n",
              "      <td>False</td>\n",
              "      <td>False</td>\n",
              "      <td>False</td>\n",
              "      <td>False</td>\n",
              "      <td>True</td>\n",
              "    </tr>\n",
              "    <tr>\n",
              "      <th>3</th>\n",
              "      <td>40</td>\n",
              "      <td>40941</td>\n",
              "      <td>0</td>\n",
              "      <td>False</td>\n",
              "      <td>False</td>\n",
              "      <td>True</td>\n",
              "      <td>False</td>\n",
              "      <td>False</td>\n",
              "      <td>False</td>\n",
              "      <td>False</td>\n",
              "      <td>False</td>\n",
              "      <td>False</td>\n",
              "      <td>True</td>\n",
              "    </tr>\n",
              "    <tr>\n",
              "      <th>4</th>\n",
              "      <td>46</td>\n",
              "      <td>50289</td>\n",
              "      <td>0</td>\n",
              "      <td>False</td>\n",
              "      <td>False</td>\n",
              "      <td>True</td>\n",
              "      <td>False</td>\n",
              "      <td>False</td>\n",
              "      <td>False</td>\n",
              "      <td>False</td>\n",
              "      <td>False</td>\n",
              "      <td>False</td>\n",
              "      <td>True</td>\n",
              "    </tr>\n",
              "  </tbody>\n",
              "</table>\n",
              "</div>\n",
              "    <div class=\"colab-df-buttons\">\n",
              "\n",
              "  <div class=\"colab-df-container\">\n",
              "    <button class=\"colab-df-convert\" onclick=\"convertToInteractive('df-5abb7a94-963f-4355-90ed-f9df4173fe9d')\"\n",
              "            title=\"Convert this dataframe to an interactive table.\"\n",
              "            style=\"display:none;\">\n",
              "\n",
              "  <svg xmlns=\"http://www.w3.org/2000/svg\" height=\"24px\" viewBox=\"0 -960 960 960\">\n",
              "    <path d=\"M120-120v-720h720v720H120Zm60-500h600v-160H180v160Zm220 220h160v-160H400v160Zm0 220h160v-160H400v160ZM180-400h160v-160H180v160Zm440 0h160v-160H620v160ZM180-180h160v-160H180v160Zm440 0h160v-160H620v160Z\"/>\n",
              "  </svg>\n",
              "    </button>\n",
              "\n",
              "  <style>\n",
              "    .colab-df-container {\n",
              "      display:flex;\n",
              "      gap: 12px;\n",
              "    }\n",
              "\n",
              "    .colab-df-convert {\n",
              "      background-color: #E8F0FE;\n",
              "      border: none;\n",
              "      border-radius: 50%;\n",
              "      cursor: pointer;\n",
              "      display: none;\n",
              "      fill: #1967D2;\n",
              "      height: 32px;\n",
              "      padding: 0 0 0 0;\n",
              "      width: 32px;\n",
              "    }\n",
              "\n",
              "    .colab-df-convert:hover {\n",
              "      background-color: #E2EBFA;\n",
              "      box-shadow: 0px 1px 2px rgba(60, 64, 67, 0.3), 0px 1px 3px 1px rgba(60, 64, 67, 0.15);\n",
              "      fill: #174EA6;\n",
              "    }\n",
              "\n",
              "    .colab-df-buttons div {\n",
              "      margin-bottom: 4px;\n",
              "    }\n",
              "\n",
              "    [theme=dark] .colab-df-convert {\n",
              "      background-color: #3B4455;\n",
              "      fill: #D2E3FC;\n",
              "    }\n",
              "\n",
              "    [theme=dark] .colab-df-convert:hover {\n",
              "      background-color: #434B5C;\n",
              "      box-shadow: 0px 1px 3px 1px rgba(0, 0, 0, 0.15);\n",
              "      filter: drop-shadow(0px 1px 2px rgba(0, 0, 0, 0.3));\n",
              "      fill: #FFFFFF;\n",
              "    }\n",
              "  </style>\n",
              "\n",
              "    <script>\n",
              "      const buttonEl =\n",
              "        document.querySelector('#df-5abb7a94-963f-4355-90ed-f9df4173fe9d button.colab-df-convert');\n",
              "      buttonEl.style.display =\n",
              "        google.colab.kernel.accessAllowed ? 'block' : 'none';\n",
              "\n",
              "      async function convertToInteractive(key) {\n",
              "        const element = document.querySelector('#df-5abb7a94-963f-4355-90ed-f9df4173fe9d');\n",
              "        const dataTable =\n",
              "          await google.colab.kernel.invokeFunction('convertToInteractive',\n",
              "                                                    [key], {});\n",
              "        if (!dataTable) return;\n",
              "\n",
              "        const docLinkHtml = 'Like what you see? Visit the ' +\n",
              "          '<a target=\"_blank\" href=https://colab.research.google.com/notebooks/data_table.ipynb>data table notebook</a>'\n",
              "          + ' to learn more about interactive tables.';\n",
              "        element.innerHTML = '';\n",
              "        dataTable['output_type'] = 'display_data';\n",
              "        await google.colab.output.renderOutput(dataTable, element);\n",
              "        const docLink = document.createElement('div');\n",
              "        docLink.innerHTML = docLinkHtml;\n",
              "        element.appendChild(docLink);\n",
              "      }\n",
              "    </script>\n",
              "  </div>\n",
              "\n",
              "\n",
              "<div id=\"df-d97ee0f6-12ee-438a-87c7-58ec32453a59\">\n",
              "  <button class=\"colab-df-quickchart\" onclick=\"quickchart('df-d97ee0f6-12ee-438a-87c7-58ec32453a59')\"\n",
              "            title=\"Suggest charts\"\n",
              "            style=\"display:none;\">\n",
              "\n",
              "<svg xmlns=\"http://www.w3.org/2000/svg\" height=\"24px\"viewBox=\"0 0 24 24\"\n",
              "     width=\"24px\">\n",
              "    <g>\n",
              "        <path d=\"M19 3H5c-1.1 0-2 .9-2 2v14c0 1.1.9 2 2 2h14c1.1 0 2-.9 2-2V5c0-1.1-.9-2-2-2zM9 17H7v-7h2v7zm4 0h-2V7h2v10zm4 0h-2v-4h2v4z\"/>\n",
              "    </g>\n",
              "</svg>\n",
              "  </button>\n",
              "\n",
              "<style>\n",
              "  .colab-df-quickchart {\n",
              "      --bg-color: #E8F0FE;\n",
              "      --fill-color: #1967D2;\n",
              "      --hover-bg-color: #E2EBFA;\n",
              "      --hover-fill-color: #174EA6;\n",
              "      --disabled-fill-color: #AAA;\n",
              "      --disabled-bg-color: #DDD;\n",
              "  }\n",
              "\n",
              "  [theme=dark] .colab-df-quickchart {\n",
              "      --bg-color: #3B4455;\n",
              "      --fill-color: #D2E3FC;\n",
              "      --hover-bg-color: #434B5C;\n",
              "      --hover-fill-color: #FFFFFF;\n",
              "      --disabled-bg-color: #3B4455;\n",
              "      --disabled-fill-color: #666;\n",
              "  }\n",
              "\n",
              "  .colab-df-quickchart {\n",
              "    background-color: var(--bg-color);\n",
              "    border: none;\n",
              "    border-radius: 50%;\n",
              "    cursor: pointer;\n",
              "    display: none;\n",
              "    fill: var(--fill-color);\n",
              "    height: 32px;\n",
              "    padding: 0;\n",
              "    width: 32px;\n",
              "  }\n",
              "\n",
              "  .colab-df-quickchart:hover {\n",
              "    background-color: var(--hover-bg-color);\n",
              "    box-shadow: 0 1px 2px rgba(60, 64, 67, 0.3), 0 1px 3px 1px rgba(60, 64, 67, 0.15);\n",
              "    fill: var(--button-hover-fill-color);\n",
              "  }\n",
              "\n",
              "  .colab-df-quickchart-complete:disabled,\n",
              "  .colab-df-quickchart-complete:disabled:hover {\n",
              "    background-color: var(--disabled-bg-color);\n",
              "    fill: var(--disabled-fill-color);\n",
              "    box-shadow: none;\n",
              "  }\n",
              "\n",
              "  .colab-df-spinner {\n",
              "    border: 2px solid var(--fill-color);\n",
              "    border-color: transparent;\n",
              "    border-bottom-color: var(--fill-color);\n",
              "    animation:\n",
              "      spin 1s steps(1) infinite;\n",
              "  }\n",
              "\n",
              "  @keyframes spin {\n",
              "    0% {\n",
              "      border-color: transparent;\n",
              "      border-bottom-color: var(--fill-color);\n",
              "      border-left-color: var(--fill-color);\n",
              "    }\n",
              "    20% {\n",
              "      border-color: transparent;\n",
              "      border-left-color: var(--fill-color);\n",
              "      border-top-color: var(--fill-color);\n",
              "    }\n",
              "    30% {\n",
              "      border-color: transparent;\n",
              "      border-left-color: var(--fill-color);\n",
              "      border-top-color: var(--fill-color);\n",
              "      border-right-color: var(--fill-color);\n",
              "    }\n",
              "    40% {\n",
              "      border-color: transparent;\n",
              "      border-right-color: var(--fill-color);\n",
              "      border-top-color: var(--fill-color);\n",
              "    }\n",
              "    60% {\n",
              "      border-color: transparent;\n",
              "      border-right-color: var(--fill-color);\n",
              "    }\n",
              "    80% {\n",
              "      border-color: transparent;\n",
              "      border-right-color: var(--fill-color);\n",
              "      border-bottom-color: var(--fill-color);\n",
              "    }\n",
              "    90% {\n",
              "      border-color: transparent;\n",
              "      border-bottom-color: var(--fill-color);\n",
              "    }\n",
              "  }\n",
              "</style>\n",
              "\n",
              "  <script>\n",
              "    async function quickchart(key) {\n",
              "      const quickchartButtonEl =\n",
              "        document.querySelector('#' + key + ' button');\n",
              "      quickchartButtonEl.disabled = true;  // To prevent multiple clicks.\n",
              "      quickchartButtonEl.classList.add('colab-df-spinner');\n",
              "      try {\n",
              "        const charts = await google.colab.kernel.invokeFunction(\n",
              "            'suggestCharts', [key], {});\n",
              "      } catch (error) {\n",
              "        console.error('Error during call to suggestCharts:', error);\n",
              "      }\n",
              "      quickchartButtonEl.classList.remove('colab-df-spinner');\n",
              "      quickchartButtonEl.classList.add('colab-df-quickchart-complete');\n",
              "    }\n",
              "    (() => {\n",
              "      let quickchartButtonEl =\n",
              "        document.querySelector('#df-d97ee0f6-12ee-438a-87c7-58ec32453a59 button');\n",
              "      quickchartButtonEl.style.display =\n",
              "        google.colab.kernel.accessAllowed ? 'block' : 'none';\n",
              "    })();\n",
              "  </script>\n",
              "</div>\n",
              "\n",
              "    </div>\n",
              "  </div>\n"
            ],
            "application/vnd.google.colaboratory.intrinsic+json": {
              "type": "dataframe",
              "variable_name": "data"
            }
          },
          "metadata": {},
          "execution_count": 56
        }
      ],
      "source": [
        "#Instead of yes/no we'll use a 0 or 2\n",
        "#We use the value '2' to make our analysis later on less ambiguous\n",
        "# data[\"ill\"].replace({\"No\":0, \"Yes\":2},inplace=True)\n",
        "data[\"ill\"].replace({\"No\":0, \"Yes\":2},inplace=True)\n",
        "\n",
        "data[\"ill\"] = data[\"ill\"].astype(int)\n",
        "#We change categorical values into numeric ones using `dummies`\n",
        "data = pd.get_dummies(data, columns=['city','gender'])\n",
        "data.head(5)"
      ]
    },
    {
      "cell_type": "markdown",
      "metadata": {
        "id": "pLTMGu2S1BgK"
      },
      "source": [
        "The example above shows 5 entries that that come from Montreal."
      ]
    },
    {
      "cell_type": "code",
      "execution_count": 38,
      "metadata": {
        "id": "mCOkGOuj1BgK",
        "outputId": "5e952c60-0c5e-423a-b7be-3205a9f00a60",
        "colab": {
          "base_uri": "https://localhost:8080/",
          "height": 226
        }
      },
      "outputs": [
        {
          "output_type": "execute_result",
          "data": {
            "text/plain": [
              "        age  income  ill  city_Edmonton  city_Halifax  city_Montreal  \\\n",
              "149995   48   93669    0           True         False          False   \n",
              "149996   25   96748    0           True         False          False   \n",
              "149997   26  111885    0           True         False          False   \n",
              "149998   25  111878    0           True         False          False   \n",
              "149999   37   87251    0           True         False          False   \n",
              "\n",
              "        city_Ottawa  city_Regina  city_Toronto  city_Vancouver  city_Waterloo  \\\n",
              "149995        False        False         False           False          False   \n",
              "149996        False        False         False           False          False   \n",
              "149997        False        False         False           False          False   \n",
              "149998        False        False         False           False          False   \n",
              "149999        False        False         False           False          False   \n",
              "\n",
              "        gender_Female  gender_Male  \n",
              "149995          False         True  \n",
              "149996          False         True  \n",
              "149997          False         True  \n",
              "149998          False         True  \n",
              "149999           True        False  "
            ],
            "text/html": [
              "\n",
              "  <div id=\"df-47cba234-55cb-406c-abeb-40a86d95f34e\" class=\"colab-df-container\">\n",
              "    <div>\n",
              "<style scoped>\n",
              "    .dataframe tbody tr th:only-of-type {\n",
              "        vertical-align: middle;\n",
              "    }\n",
              "\n",
              "    .dataframe tbody tr th {\n",
              "        vertical-align: top;\n",
              "    }\n",
              "\n",
              "    .dataframe thead th {\n",
              "        text-align: right;\n",
              "    }\n",
              "</style>\n",
              "<table border=\"1\" class=\"dataframe\">\n",
              "  <thead>\n",
              "    <tr style=\"text-align: right;\">\n",
              "      <th></th>\n",
              "      <th>age</th>\n",
              "      <th>income</th>\n",
              "      <th>ill</th>\n",
              "      <th>city_Edmonton</th>\n",
              "      <th>city_Halifax</th>\n",
              "      <th>city_Montreal</th>\n",
              "      <th>city_Ottawa</th>\n",
              "      <th>city_Regina</th>\n",
              "      <th>city_Toronto</th>\n",
              "      <th>city_Vancouver</th>\n",
              "      <th>city_Waterloo</th>\n",
              "      <th>gender_Female</th>\n",
              "      <th>gender_Male</th>\n",
              "    </tr>\n",
              "  </thead>\n",
              "  <tbody>\n",
              "    <tr>\n",
              "      <th>149995</th>\n",
              "      <td>48</td>\n",
              "      <td>93669</td>\n",
              "      <td>0</td>\n",
              "      <td>True</td>\n",
              "      <td>False</td>\n",
              "      <td>False</td>\n",
              "      <td>False</td>\n",
              "      <td>False</td>\n",
              "      <td>False</td>\n",
              "      <td>False</td>\n",
              "      <td>False</td>\n",
              "      <td>False</td>\n",
              "      <td>True</td>\n",
              "    </tr>\n",
              "    <tr>\n",
              "      <th>149996</th>\n",
              "      <td>25</td>\n",
              "      <td>96748</td>\n",
              "      <td>0</td>\n",
              "      <td>True</td>\n",
              "      <td>False</td>\n",
              "      <td>False</td>\n",
              "      <td>False</td>\n",
              "      <td>False</td>\n",
              "      <td>False</td>\n",
              "      <td>False</td>\n",
              "      <td>False</td>\n",
              "      <td>False</td>\n",
              "      <td>True</td>\n",
              "    </tr>\n",
              "    <tr>\n",
              "      <th>149997</th>\n",
              "      <td>26</td>\n",
              "      <td>111885</td>\n",
              "      <td>0</td>\n",
              "      <td>True</td>\n",
              "      <td>False</td>\n",
              "      <td>False</td>\n",
              "      <td>False</td>\n",
              "      <td>False</td>\n",
              "      <td>False</td>\n",
              "      <td>False</td>\n",
              "      <td>False</td>\n",
              "      <td>False</td>\n",
              "      <td>True</td>\n",
              "    </tr>\n",
              "    <tr>\n",
              "      <th>149998</th>\n",
              "      <td>25</td>\n",
              "      <td>111878</td>\n",
              "      <td>0</td>\n",
              "      <td>True</td>\n",
              "      <td>False</td>\n",
              "      <td>False</td>\n",
              "      <td>False</td>\n",
              "      <td>False</td>\n",
              "      <td>False</td>\n",
              "      <td>False</td>\n",
              "      <td>False</td>\n",
              "      <td>False</td>\n",
              "      <td>True</td>\n",
              "    </tr>\n",
              "    <tr>\n",
              "      <th>149999</th>\n",
              "      <td>37</td>\n",
              "      <td>87251</td>\n",
              "      <td>0</td>\n",
              "      <td>True</td>\n",
              "      <td>False</td>\n",
              "      <td>False</td>\n",
              "      <td>False</td>\n",
              "      <td>False</td>\n",
              "      <td>False</td>\n",
              "      <td>False</td>\n",
              "      <td>False</td>\n",
              "      <td>True</td>\n",
              "      <td>False</td>\n",
              "    </tr>\n",
              "  </tbody>\n",
              "</table>\n",
              "</div>\n",
              "    <div class=\"colab-df-buttons\">\n",
              "\n",
              "  <div class=\"colab-df-container\">\n",
              "    <button class=\"colab-df-convert\" onclick=\"convertToInteractive('df-47cba234-55cb-406c-abeb-40a86d95f34e')\"\n",
              "            title=\"Convert this dataframe to an interactive table.\"\n",
              "            style=\"display:none;\">\n",
              "\n",
              "  <svg xmlns=\"http://www.w3.org/2000/svg\" height=\"24px\" viewBox=\"0 -960 960 960\">\n",
              "    <path d=\"M120-120v-720h720v720H120Zm60-500h600v-160H180v160Zm220 220h160v-160H400v160Zm0 220h160v-160H400v160ZM180-400h160v-160H180v160Zm440 0h160v-160H620v160ZM180-180h160v-160H180v160Zm440 0h160v-160H620v160Z\"/>\n",
              "  </svg>\n",
              "    </button>\n",
              "\n",
              "  <style>\n",
              "    .colab-df-container {\n",
              "      display:flex;\n",
              "      gap: 12px;\n",
              "    }\n",
              "\n",
              "    .colab-df-convert {\n",
              "      background-color: #E8F0FE;\n",
              "      border: none;\n",
              "      border-radius: 50%;\n",
              "      cursor: pointer;\n",
              "      display: none;\n",
              "      fill: #1967D2;\n",
              "      height: 32px;\n",
              "      padding: 0 0 0 0;\n",
              "      width: 32px;\n",
              "    }\n",
              "\n",
              "    .colab-df-convert:hover {\n",
              "      background-color: #E2EBFA;\n",
              "      box-shadow: 0px 1px 2px rgba(60, 64, 67, 0.3), 0px 1px 3px 1px rgba(60, 64, 67, 0.15);\n",
              "      fill: #174EA6;\n",
              "    }\n",
              "\n",
              "    .colab-df-buttons div {\n",
              "      margin-bottom: 4px;\n",
              "    }\n",
              "\n",
              "    [theme=dark] .colab-df-convert {\n",
              "      background-color: #3B4455;\n",
              "      fill: #D2E3FC;\n",
              "    }\n",
              "\n",
              "    [theme=dark] .colab-df-convert:hover {\n",
              "      background-color: #434B5C;\n",
              "      box-shadow: 0px 1px 3px 1px rgba(0, 0, 0, 0.15);\n",
              "      filter: drop-shadow(0px 1px 2px rgba(0, 0, 0, 0.3));\n",
              "      fill: #FFFFFF;\n",
              "    }\n",
              "  </style>\n",
              "\n",
              "    <script>\n",
              "      const buttonEl =\n",
              "        document.querySelector('#df-47cba234-55cb-406c-abeb-40a86d95f34e button.colab-df-convert');\n",
              "      buttonEl.style.display =\n",
              "        google.colab.kernel.accessAllowed ? 'block' : 'none';\n",
              "\n",
              "      async function convertToInteractive(key) {\n",
              "        const element = document.querySelector('#df-47cba234-55cb-406c-abeb-40a86d95f34e');\n",
              "        const dataTable =\n",
              "          await google.colab.kernel.invokeFunction('convertToInteractive',\n",
              "                                                    [key], {});\n",
              "        if (!dataTable) return;\n",
              "\n",
              "        const docLinkHtml = 'Like what you see? Visit the ' +\n",
              "          '<a target=\"_blank\" href=https://colab.research.google.com/notebooks/data_table.ipynb>data table notebook</a>'\n",
              "          + ' to learn more about interactive tables.';\n",
              "        element.innerHTML = '';\n",
              "        dataTable['output_type'] = 'display_data';\n",
              "        await google.colab.output.renderOutput(dataTable, element);\n",
              "        const docLink = document.createElement('div');\n",
              "        docLink.innerHTML = docLinkHtml;\n",
              "        element.appendChild(docLink);\n",
              "      }\n",
              "    </script>\n",
              "  </div>\n",
              "\n",
              "\n",
              "<div id=\"df-9f15aa93-3416-441f-86c4-5cfa3e3345aa\">\n",
              "  <button class=\"colab-df-quickchart\" onclick=\"quickchart('df-9f15aa93-3416-441f-86c4-5cfa3e3345aa')\"\n",
              "            title=\"Suggest charts\"\n",
              "            style=\"display:none;\">\n",
              "\n",
              "<svg xmlns=\"http://www.w3.org/2000/svg\" height=\"24px\"viewBox=\"0 0 24 24\"\n",
              "     width=\"24px\">\n",
              "    <g>\n",
              "        <path d=\"M19 3H5c-1.1 0-2 .9-2 2v14c0 1.1.9 2 2 2h14c1.1 0 2-.9 2-2V5c0-1.1-.9-2-2-2zM9 17H7v-7h2v7zm4 0h-2V7h2v10zm4 0h-2v-4h2v4z\"/>\n",
              "    </g>\n",
              "</svg>\n",
              "  </button>\n",
              "\n",
              "<style>\n",
              "  .colab-df-quickchart {\n",
              "      --bg-color: #E8F0FE;\n",
              "      --fill-color: #1967D2;\n",
              "      --hover-bg-color: #E2EBFA;\n",
              "      --hover-fill-color: #174EA6;\n",
              "      --disabled-fill-color: #AAA;\n",
              "      --disabled-bg-color: #DDD;\n",
              "  }\n",
              "\n",
              "  [theme=dark] .colab-df-quickchart {\n",
              "      --bg-color: #3B4455;\n",
              "      --fill-color: #D2E3FC;\n",
              "      --hover-bg-color: #434B5C;\n",
              "      --hover-fill-color: #FFFFFF;\n",
              "      --disabled-bg-color: #3B4455;\n",
              "      --disabled-fill-color: #666;\n",
              "  }\n",
              "\n",
              "  .colab-df-quickchart {\n",
              "    background-color: var(--bg-color);\n",
              "    border: none;\n",
              "    border-radius: 50%;\n",
              "    cursor: pointer;\n",
              "    display: none;\n",
              "    fill: var(--fill-color);\n",
              "    height: 32px;\n",
              "    padding: 0;\n",
              "    width: 32px;\n",
              "  }\n",
              "\n",
              "  .colab-df-quickchart:hover {\n",
              "    background-color: var(--hover-bg-color);\n",
              "    box-shadow: 0 1px 2px rgba(60, 64, 67, 0.3), 0 1px 3px 1px rgba(60, 64, 67, 0.15);\n",
              "    fill: var(--button-hover-fill-color);\n",
              "  }\n",
              "\n",
              "  .colab-df-quickchart-complete:disabled,\n",
              "  .colab-df-quickchart-complete:disabled:hover {\n",
              "    background-color: var(--disabled-bg-color);\n",
              "    fill: var(--disabled-fill-color);\n",
              "    box-shadow: none;\n",
              "  }\n",
              "\n",
              "  .colab-df-spinner {\n",
              "    border: 2px solid var(--fill-color);\n",
              "    border-color: transparent;\n",
              "    border-bottom-color: var(--fill-color);\n",
              "    animation:\n",
              "      spin 1s steps(1) infinite;\n",
              "  }\n",
              "\n",
              "  @keyframes spin {\n",
              "    0% {\n",
              "      border-color: transparent;\n",
              "      border-bottom-color: var(--fill-color);\n",
              "      border-left-color: var(--fill-color);\n",
              "    }\n",
              "    20% {\n",
              "      border-color: transparent;\n",
              "      border-left-color: var(--fill-color);\n",
              "      border-top-color: var(--fill-color);\n",
              "    }\n",
              "    30% {\n",
              "      border-color: transparent;\n",
              "      border-left-color: var(--fill-color);\n",
              "      border-top-color: var(--fill-color);\n",
              "      border-right-color: var(--fill-color);\n",
              "    }\n",
              "    40% {\n",
              "      border-color: transparent;\n",
              "      border-right-color: var(--fill-color);\n",
              "      border-top-color: var(--fill-color);\n",
              "    }\n",
              "    60% {\n",
              "      border-color: transparent;\n",
              "      border-right-color: var(--fill-color);\n",
              "    }\n",
              "    80% {\n",
              "      border-color: transparent;\n",
              "      border-right-color: var(--fill-color);\n",
              "      border-bottom-color: var(--fill-color);\n",
              "    }\n",
              "    90% {\n",
              "      border-color: transparent;\n",
              "      border-bottom-color: var(--fill-color);\n",
              "    }\n",
              "  }\n",
              "</style>\n",
              "\n",
              "  <script>\n",
              "    async function quickchart(key) {\n",
              "      const quickchartButtonEl =\n",
              "        document.querySelector('#' + key + ' button');\n",
              "      quickchartButtonEl.disabled = true;  // To prevent multiple clicks.\n",
              "      quickchartButtonEl.classList.add('colab-df-spinner');\n",
              "      try {\n",
              "        const charts = await google.colab.kernel.invokeFunction(\n",
              "            'suggestCharts', [key], {});\n",
              "      } catch (error) {\n",
              "        console.error('Error during call to suggestCharts:', error);\n",
              "      }\n",
              "      quickchartButtonEl.classList.remove('colab-df-spinner');\n",
              "      quickchartButtonEl.classList.add('colab-df-quickchart-complete');\n",
              "    }\n",
              "    (() => {\n",
              "      let quickchartButtonEl =\n",
              "        document.querySelector('#df-9f15aa93-3416-441f-86c4-5cfa3e3345aa button');\n",
              "      quickchartButtonEl.style.display =\n",
              "        google.colab.kernel.accessAllowed ? 'block' : 'none';\n",
              "    })();\n",
              "  </script>\n",
              "</div>\n",
              "\n",
              "    </div>\n",
              "  </div>\n"
            ],
            "application/vnd.google.colaboratory.intrinsic+json": {
              "type": "dataframe",
              "summary": "{\n  \"name\": \"data\",\n  \"rows\": 5,\n  \"fields\": [\n    {\n      \"column\": \"age\",\n      \"properties\": {\n        \"dtype\": \"number\",\n        \"std\": 10,\n        \"min\": 25,\n        \"max\": 48,\n        \"num_unique_values\": 4,\n        \"samples\": [\n          25,\n          37,\n          48\n        ],\n        \"semantic_type\": \"\",\n        \"description\": \"\"\n      }\n    },\n    {\n      \"column\": \"income\",\n      \"properties\": {\n        \"dtype\": \"number\",\n        \"std\": 11125,\n        \"min\": 87251,\n        \"max\": 111885,\n        \"num_unique_values\": 5,\n        \"samples\": [\n          96748,\n          87251,\n          111885\n        ],\n        \"semantic_type\": \"\",\n        \"description\": \"\"\n      }\n    },\n    {\n      \"column\": \"ill\",\n      \"properties\": {\n        \"dtype\": \"number\",\n        \"std\": 0,\n        \"min\": 0,\n        \"max\": 0,\n        \"num_unique_values\": 1,\n        \"samples\": [\n          0\n        ],\n        \"semantic_type\": \"\",\n        \"description\": \"\"\n      }\n    },\n    {\n      \"column\": \"city_Edmonton\",\n      \"properties\": {\n        \"dtype\": \"boolean\",\n        \"num_unique_values\": 1,\n        \"samples\": [\n          true\n        ],\n        \"semantic_type\": \"\",\n        \"description\": \"\"\n      }\n    },\n    {\n      \"column\": \"city_Halifax\",\n      \"properties\": {\n        \"dtype\": \"boolean\",\n        \"num_unique_values\": 1,\n        \"samples\": [\n          false\n        ],\n        \"semantic_type\": \"\",\n        \"description\": \"\"\n      }\n    },\n    {\n      \"column\": \"city_Montreal\",\n      \"properties\": {\n        \"dtype\": \"boolean\",\n        \"num_unique_values\": 1,\n        \"samples\": [\n          false\n        ],\n        \"semantic_type\": \"\",\n        \"description\": \"\"\n      }\n    },\n    {\n      \"column\": \"city_Ottawa\",\n      \"properties\": {\n        \"dtype\": \"boolean\",\n        \"num_unique_values\": 1,\n        \"samples\": [\n          false\n        ],\n        \"semantic_type\": \"\",\n        \"description\": \"\"\n      }\n    },\n    {\n      \"column\": \"city_Regina\",\n      \"properties\": {\n        \"dtype\": \"boolean\",\n        \"num_unique_values\": 1,\n        \"samples\": [\n          false\n        ],\n        \"semantic_type\": \"\",\n        \"description\": \"\"\n      }\n    },\n    {\n      \"column\": \"city_Toronto\",\n      \"properties\": {\n        \"dtype\": \"boolean\",\n        \"num_unique_values\": 1,\n        \"samples\": [\n          false\n        ],\n        \"semantic_type\": \"\",\n        \"description\": \"\"\n      }\n    },\n    {\n      \"column\": \"city_Vancouver\",\n      \"properties\": {\n        \"dtype\": \"boolean\",\n        \"num_unique_values\": 1,\n        \"samples\": [\n          false\n        ],\n        \"semantic_type\": \"\",\n        \"description\": \"\"\n      }\n    },\n    {\n      \"column\": \"city_Waterloo\",\n      \"properties\": {\n        \"dtype\": \"boolean\",\n        \"num_unique_values\": 1,\n        \"samples\": [\n          false\n        ],\n        \"semantic_type\": \"\",\n        \"description\": \"\"\n      }\n    },\n    {\n      \"column\": \"gender_Female\",\n      \"properties\": {\n        \"dtype\": \"boolean\",\n        \"num_unique_values\": 2,\n        \"samples\": [\n          true\n        ],\n        \"semantic_type\": \"\",\n        \"description\": \"\"\n      }\n    },\n    {\n      \"column\": \"gender_Male\",\n      \"properties\": {\n        \"dtype\": \"boolean\",\n        \"num_unique_values\": 2,\n        \"samples\": [\n          false\n        ],\n        \"semantic_type\": \"\",\n        \"description\": \"\"\n      }\n    }\n  ]\n}"
            }
          },
          "metadata": {},
          "execution_count": 38
        }
      ],
      "source": [
        "data.tail(5)"
      ]
    },
    {
      "cell_type": "markdown",
      "metadata": {
        "id": "I22hIw5Z1BgK"
      },
      "source": [
        "This example shows the last 5 entries in the dataframe that come from Edmonton.\n",
        "\n",
        "\n",
        "## Now we are done the most difficult part of the process, understanding the data and getting it ready.\n",
        "\n",
        "\n",
        "----"
      ]
    },
    {
      "cell_type": "markdown",
      "metadata": {
        "id": "Hny7g6Rs1BgK"
      },
      "source": [
        "## Building and Running the Model"
      ]
    },
    {
      "cell_type": "markdown",
      "metadata": {
        "id": "sXfQolNL1BgK"
      },
      "source": [
        "We now have our data cleaned up, and represented in a way that Scikit will be able to analyze. To be honest the most difficult part of the process is done.\n",
        "\n",
        "We now need to split our columns in two types:\n",
        "- **features** represent the data we use to build our guess\n",
        "- **target variable** the thing our model hopes to guess"
      ]
    },
    {
      "cell_type": "code",
      "execution_count": 39,
      "metadata": {
        "id": "LZgPuCqa1BgK"
      },
      "outputs": [],
      "source": [
        "#all of the following columns are features, we'll make a list of their names\n",
        "features = [\"age\",\\\n",
        "            \"income\",\\\n",
        "            \"city_Edmonton\",\\\n",
        "            \"city_Halifax\",\\\n",
        "            \"city_Montreal\",\n",
        "            \"city_Ottawa\",\\\n",
        "            \"city_Regina\",\\\n",
        "            \"city_Toronto\",\n",
        "            \"city_Vancouver\",\\\n",
        "            \"city_Waterloo\",\\\n",
        "            \"gender_Female\",\\\n",
        "            \"gender_Male\"]\n",
        "\n",
        "X = data[features]\n",
        "\n",
        "#We want to target the ill column\n",
        "y = data.ill"
      ]
    },
    {
      "cell_type": "markdown",
      "metadata": {
        "id": "lMrSoOMM1BgK"
      },
      "source": [
        "\n",
        "## Training and testing\n",
        "\n",
        "Now that we have built our model we need to get the data ready for it. We do this by breaking it into two different pieces. The diagram shows a conceptualization of how this is proportioned.\n",
        "\n",
        "![Train Test Split](https://raw.githubusercontent.com/BrockDSL/Machine_Learning_with_Python/master/train_test.png)\n",
        "\n",
        "- **Training set** - This is what is used to build the model. If we set this value too large the ML Model just _memorizes_ the data so we need to be careful when setting this value. This is called _overfitting_ the data.\n",
        "- **Testing set** - This is used to see if our guesses are correct\n",
        "\n",
        "Before we were looking at the **columns** of the data, this investigation of training/testing looks at the **rows** of data.\n",
        "\n"
      ]
    },
    {
      "cell_type": "code",
      "execution_count": 40,
      "metadata": {
        "id": "gLbe8OYx1BgK"
      },
      "outputs": [],
      "source": [
        "#Training and test together make up 100% of the data!\n",
        "#We start with a baseline of 30% of our data as testing\n",
        "\n",
        "test_percent = 30\n",
        "train_percent = 100 - test_percent\n",
        "\n",
        "X_train, X_test, y_train, y_test = train_test_split(X, \\\n",
        "                                                    y, \\\n",
        "                                                    test_size=test_percent/100.0,\n",
        "                                                   random_state=10)"
      ]
    },
    {
      "cell_type": "markdown",
      "metadata": {
        "id": "aoZ0xtH41BgK"
      },
      "source": [
        "Now the interesting part, we build our model, **train** it against the **training set** and see how it **predicts** against the **testing set**"
      ]
    },
    {
      "cell_type": "code",
      "execution_count": 41,
      "metadata": {
        "id": "aF0D6-531BgK"
      },
      "outputs": [],
      "source": [
        "# Create Decision Tree classifer object\n",
        "treeClass = DecisionTreeClassifier()\n",
        "\n",
        "# Train\n",
        "treeClass = treeClass.fit(X_train,y_train)\n",
        "\n",
        "#Predict\n",
        "y_pred = treeClass.predict(X_test)\n"
      ]
    },
    {
      "cell_type": "markdown",
      "metadata": {
        "id": "YLYml-Fc1BgK"
      },
      "source": [
        "## Accuracy of the Model\n",
        "\n",
        "To see how good our machine learning model is we need to see how accurate our predictions are. `Scikit` has built in functions and [metrics](https://scikit-learn.org/stable/modules/model_evaluation.html) to do this for us."
      ]
    },
    {
      "cell_type": "code",
      "execution_count": 42,
      "metadata": {
        "id": "7yEEym2J1BgK",
        "outputId": "386e935c-23c3-4967-8277-5bba63de2d2a",
        "colab": {
          "base_uri": "https://localhost:8080/"
        }
      },
      "outputs": [
        {
          "output_type": "stream",
          "name": "stdout",
          "text": [
            "Accuracy: \n",
            "0.8457333333333333\n"
          ]
        }
      ],
      "source": [
        "print(\"Accuracy: \")\n",
        "print(metrics.accuracy_score(y_test,y_pred))"
      ]
    },
    {
      "cell_type": "markdown",
      "metadata": {
        "id": "yqKCtabs1BgK"
      },
      "source": [
        "\n",
        "## Making Predictions\n",
        "\n",
        "Not bad. We can use our model to predict a guess for **ill** if we pass along all of the other parameters. Our model only tells us if someone is ill or not. This is directly asking our classification model to give us a prediction based on a pretend record.\n",
        "\n",
        "Since this classifier tells us if someone is ill or someone is not ill, it has two outputs.\n"
      ]
    },
    {
      "cell_type": "code",
      "execution_count": 43,
      "metadata": {
        "id": "syMH_68F1BgK",
        "outputId": "1642d432-aeb5-419c-aa5e-f28a430378ad",
        "colab": {
          "base_uri": "https://localhost:8080/"
        }
      },
      "outputs": [
        {
          "output_type": "execute_result",
          "data": {
            "text/plain": [
              "array([0, 2])"
            ]
          },
          "metadata": {},
          "execution_count": 43
        }
      ],
      "source": [
        "data.ill.unique()"
      ]
    },
    {
      "cell_type": "code",
      "execution_count": 44,
      "metadata": {
        "scrolled": true,
        "id": "g38sIbPp1BgK",
        "outputId": "57253176-432b-42c8-9c09-11647d9b0e6f",
        "colab": {
          "base_uri": "https://localhost:8080/"
        }
      },
      "outputs": [
        {
          "output_type": "stream",
          "name": "stdout",
          "text": [
            "Someone who is ill\n",
            "Class predicted by model:  [2]\n",
            "Probablity associated with the guess:  [[0. 1.]]\n",
            "\n",
            "Someone who was not ill\n",
            "Class predicted by model:  [0]\n",
            "Probablity associated with the guess:  [[1. 0.]]\n"
          ]
        }
      ],
      "source": [
        "# I randomly picked a record in the dataset to test if the prediction is correct.\n",
        "# This is from line: 149120 of the datafile\n",
        "person_x_yes = [\n",
        "        32, #age\n",
        "        82311, #income\n",
        "        1, #city_Edmonton\n",
        "        0, #city_Halifax\n",
        "        0, #city_Montreal\n",
        "        0, #city_Ottawa\n",
        "        0, #city_Regina\n",
        "        0, #city_Toronto\n",
        "        0, #city_Vancouver\n",
        "        0, #city_Waterloo\n",
        "        0, #gender_Female\n",
        "        1, #gender_Male\n",
        "]\n",
        "\n",
        "person_x_yes = pd.DataFrame([person_x_yes],columns=X_test.columns)\n",
        "\n",
        "print(\"Someone who is ill\")\n",
        "print(\"Class predicted by model: \",treeClass.predict(person_x_yes))\n",
        "print(\"Probablity associated with the guess: \",treeClass.predict_proba(person_x_yes))\n",
        "\n",
        "\n",
        "\n",
        "# I randomly picked a record in the dataset to test if the prediction is correct.\n",
        "# This is from line: 149121 of the datafile\n",
        "person_x_no = [\n",
        "        40, #age\n",
        "        89780, #income\n",
        "        1, #city_Edmonton\n",
        "        0, #city_Halifax\n",
        "        0, #city_Montreal\n",
        "        0, #city_Ottawa\n",
        "        0, #city_Regina\n",
        "        0, #city_Toronto\n",
        "        0, #city_Vancouver\n",
        "        0, #city_Waterloo\n",
        "        1, #gender_Female\n",
        "        0, #gender_Male\n",
        "]\n",
        "\n",
        "#Use the dataframe of our fictional person in our model and get our prediction\n",
        "person_x_no = pd.DataFrame([person_x_no],columns=X_test.columns)\n",
        "\n",
        "print(\"\\nSomeone who was not ill\")\n",
        "print(\"Class predicted by model: \", treeClass.predict(person_x_no))\n",
        "print(\"Probablity associated with the guess: \", treeClass.predict_proba(person_x_no))\n",
        "\n"
      ]
    },
    {
      "cell_type": "markdown",
      "metadata": {
        "id": "tgpq4mCB1BgK"
      },
      "source": [
        "Our model is very confident in it's ability to made predictions!\n",
        "\n",
        "With this model constucted we can make ask it question so to speak. We can provide it with details about a pretend person and see what classification the model will place this person.\n",
        "\n",
        "## Making a prediction with our model\n",
        "\n",
        "Try to set some parameters in the `pretend_person` variable below to make the prediction determine that the person is **ill**. If you can find one please copy and paste it into the chat box for others to try. You can do this by:\n",
        "- changing the values **line 2 & line 3** for age and income\n",
        "- pick one line from **line 4 to line 11** and change a single row to a value of 1\n",
        "- pick one line from **line 12 to line 13** and change a single row to a value of 1\n",
        "\n",
        "\n",
        "## Question 1\n",
        "- Try to come up with some set of values that creates an `ill` person. Share your choices in the chat box\n",
        "- Try to come up with some set of values that doesn't create an `ill` person. Share you choices in the chat box"
      ]
    },
    {
      "cell_type": "code",
      "execution_count": 45,
      "metadata": {
        "id": "nbC918Fr1BgK",
        "outputId": "9a22b82d-48af-4bc3-823f-2a16acaf1adc",
        "colab": {
          "base_uri": "https://localhost:8080/"
        }
      },
      "outputs": [
        {
          "output_type": "stream",
          "name": "stdout",
          "text": [
            "\\Pretend person details\n",
            "   age  income  city_Edmonton  city_Halifax  city_Montreal  city_Ottawa  \\\n",
            "0   30    5000              1             0              0            0   \n",
            "\n",
            "   city_Regina  city_Toronto  city_Vancouver  city_Waterloo  gender_Female  \\\n",
            "0            0             0               0              0              1   \n",
            "\n",
            "   gender_Male  \n",
            "0            0  \n",
            "Pretend person Class predicted\n",
            "[0]\n",
            "Pretend person probablity of guess\n",
            "[[1. 0.]]\n"
          ]
        }
      ],
      "source": [
        "pretend_person = pd.DataFrame([\n",
        "        30, #age - FILL IN\n",
        "        5000, #income - FILL IN\n",
        "        1, #city_Edmonton - ONLY 1 city at a time\n",
        "        0, #city_Halifax\n",
        "        0, #city_Montreal\n",
        "        0, #city_Ottawa\n",
        "        0, #city_Regina\n",
        "        0, #city_Toronto\n",
        "        0, #city_Vancouver\n",
        "        0, #city_Waterloo\n",
        "        1, #gender_Female - ONLY 1 gender at a time\n",
        "        0, #gender_Male\n",
        "])\n",
        "\n",
        "\n",
        "#turn our pretend person into a dataframe that is the correct dimensions\n",
        "pretend_person = pretend_person.T\n",
        "pretend_person.columns = X_test.columns\n",
        "\n",
        "print(\"\\Pretend person details\")\n",
        "print(pretend_person.head())\n",
        "\n",
        "print(\"Pretend person Class predicted\")\n",
        "print(treeClass.predict(pretend_person))\n",
        "\n",
        "print(\"Pretend person probablity of guess\")\n",
        "print(treeClass.predict_proba(pretend_person))"
      ]
    },
    {
      "cell_type": "markdown",
      "metadata": {
        "id": "L6ts09RH1BgK"
      },
      "source": [
        "\n",
        "## Visualizing our Decision Tree\n",
        "\n",
        "We can 'visualize' the decision tree to trace through the decisions it makes. In this case we can tell that **income level** is the most important factor that we consider since we ask so many questions about that before looking at any of the other features.\n",
        "\n",
        "## Question 2\n",
        "\n",
        "What is the first question the tree is asking you to make? Share your thoughts in the chat box."
      ]
    },
    {
      "cell_type": "code",
      "execution_count": 46,
      "metadata": {
        "id": "ONdMYsjj1BgK",
        "outputId": "f6e24d62-0eb4-4471-f570-5a76e85287e1",
        "colab": {
          "base_uri": "https://localhost:8080/"
        }
      },
      "outputs": [
        {
          "output_type": "stream",
          "name": "stdout",
          "text": [
            "|--- income <= -35.00\n",
            "|   |--- class: 2\n",
            "|--- income >  -35.00\n",
            "|   |--- income <= 29255.00\n",
            "|   |   |--- income <= 29190.00\n",
            "|   |   |   |--- income <= 3254.50\n",
            "|   |   |   |   |--- income <= 2570.50\n",
            "|   |   |   |   |   |--- class: 0\n",
            "|   |   |   |   |--- income >  2570.50\n",
            "|   |   |   |   |   |--- class: 2\n",
            "|   |   |   |--- income >  3254.50\n",
            "|   |   |   |   |--- income <= 24960.00\n",
            "|   |   |   |   |   |--- income <= 22569.00\n",
            "|   |   |   |   |   |   |--- income <= 22544.50\n",
            "|   |   |   |   |   |   |   |--- income <= 18228.50\n",
            "|   |   |   |   |   |   |   |   |--- age <= 54.50\n",
            "|   |   |   |   |   |   |   |   |   |--- age <= 42.50\n",
            "|   |   |   |   |   |   |   |   |   |   |--- age <= 41.50\n",
            "|   |   |   |   |   |   |   |   |   |   |   |--- truncated branch of depth 4\n",
            "|   |   |   |   |   |   |   |   |   |   |--- age >  41.50\n",
            "|   |   |   |   |   |   |   |   |   |   |   |--- truncated branch of depth 3\n",
            "|   |   |   |   |   |   |   |   |   |--- age >  42.50\n",
            "|   |   |   |   |   |   |   |   |   |   |--- class: 0\n",
            "|   |   |   |   |   |   |   |   |--- age >  54.50\n",
            "|   |   |   |   |   |   |   |   |   |--- income <= 12412.50\n",
            "|   |   |   |   |   |   |   |   |   |   |--- age <= 60.00\n",
            "|   |   |   |   |   |   |   |   |   |   |   |--- truncated branch of depth 3\n",
            "|   |   |   |   |   |   |   |   |   |   |--- age >  60.00\n",
            "|   |   |   |   |   |   |   |   |   |   |   |--- class: 0\n",
            "|   |   |   |   |   |   |   |   |   |--- income >  12412.50\n",
            "|   |   |   |   |   |   |   |   |   |   |--- income <= 16891.50\n",
            "|   |   |   |   |   |   |   |   |   |   |   |--- class: 0\n",
            "|   |   |   |   |   |   |   |   |   |   |--- income >  16891.50\n",
            "|   |   |   |   |   |   |   |   |   |   |   |--- truncated branch of depth 4\n",
            "|   |   |   |   |   |   |   |--- income >  18228.50\n",
            "|   |   |   |   |   |   |   |   |--- income <= 18364.50\n",
            "|   |   |   |   |   |   |   |   |   |--- age <= 54.00\n",
            "|   |   |   |   |   |   |   |   |   |   |--- class: 2\n",
            "|   |   |   |   |   |   |   |   |   |--- age >  54.00\n",
            "|   |   |   |   |   |   |   |   |   |   |--- class: 0\n",
            "|   |   |   |   |   |   |   |   |--- income >  18364.50\n",
            "|   |   |   |   |   |   |   |   |   |--- age <= 48.50\n",
            "|   |   |   |   |   |   |   |   |   |   |--- income <= 19262.50\n",
            "|   |   |   |   |   |   |   |   |   |   |   |--- truncated branch of depth 3\n",
            "|   |   |   |   |   |   |   |   |   |   |--- income >  19262.50\n",
            "|   |   |   |   |   |   |   |   |   |   |   |--- truncated branch of depth 12\n",
            "|   |   |   |   |   |   |   |   |   |--- age >  48.50\n",
            "|   |   |   |   |   |   |   |   |   |   |--- income <= 22460.00\n",
            "|   |   |   |   |   |   |   |   |   |   |   |--- truncated branch of depth 6\n",
            "|   |   |   |   |   |   |   |   |   |   |--- income >  22460.00\n",
            "|   |   |   |   |   |   |   |   |   |   |   |--- truncated branch of depth 2\n",
            "|   |   |   |   |   |   |--- income >  22544.50\n",
            "|   |   |   |   |   |   |   |--- age <= 34.00\n",
            "|   |   |   |   |   |   |   |   |--- class: 0\n",
            "|   |   |   |   |   |   |   |--- age >  34.00\n",
            "|   |   |   |   |   |   |   |   |--- class: 2\n",
            "|   |   |   |   |   |--- income >  22569.00\n",
            "|   |   |   |   |   |   |--- income <= 23301.50\n",
            "|   |   |   |   |   |   |   |--- class: 0\n",
            "|   |   |   |   |   |   |--- income >  23301.50\n",
            "|   |   |   |   |   |   |   |--- income <= 23315.50\n",
            "|   |   |   |   |   |   |   |   |--- class: 2\n",
            "|   |   |   |   |   |   |   |--- income >  23315.50\n",
            "|   |   |   |   |   |   |   |   |--- income <= 23433.50\n",
            "|   |   |   |   |   |   |   |   |   |--- income <= 23396.50\n",
            "|   |   |   |   |   |   |   |   |   |   |--- class: 0\n",
            "|   |   |   |   |   |   |   |   |   |--- income >  23396.50\n",
            "|   |   |   |   |   |   |   |   |   |   |--- age <= 49.00\n",
            "|   |   |   |   |   |   |   |   |   |   |   |--- class: 2\n",
            "|   |   |   |   |   |   |   |   |   |   |--- age >  49.00\n",
            "|   |   |   |   |   |   |   |   |   |   |   |--- class: 0\n",
            "|   |   |   |   |   |   |   |   |--- income >  23433.50\n",
            "|   |   |   |   |   |   |   |   |   |--- income <= 23834.00\n",
            "|   |   |   |   |   |   |   |   |   |   |--- class: 0\n",
            "|   |   |   |   |   |   |   |   |   |--- income >  23834.00\n",
            "|   |   |   |   |   |   |   |   |   |   |--- income <= 23838.50\n",
            "|   |   |   |   |   |   |   |   |   |   |   |--- class: 2\n",
            "|   |   |   |   |   |   |   |   |   |   |--- income >  23838.50\n",
            "|   |   |   |   |   |   |   |   |   |   |   |--- truncated branch of depth 7\n",
            "|   |   |   |   |--- income >  24960.00\n",
            "|   |   |   |   |   |--- income <= 24968.50\n",
            "|   |   |   |   |   |   |--- class: 2\n",
            "|   |   |   |   |   |--- income >  24968.50\n",
            "|   |   |   |   |   |   |--- income <= 25123.50\n",
            "|   |   |   |   |   |   |   |--- income <= 25073.00\n",
            "|   |   |   |   |   |   |   |   |--- class: 0\n",
            "|   |   |   |   |   |   |   |--- income >  25073.00\n",
            "|   |   |   |   |   |   |   |   |--- age <= 42.50\n",
            "|   |   |   |   |   |   |   |   |   |--- income <= 25081.50\n",
            "|   |   |   |   |   |   |   |   |   |   |--- class: 2\n",
            "|   |   |   |   |   |   |   |   |   |--- income >  25081.50\n",
            "|   |   |   |   |   |   |   |   |   |   |--- age <= 34.00\n",
            "|   |   |   |   |   |   |   |   |   |   |   |--- class: 0\n",
            "|   |   |   |   |   |   |   |   |   |   |--- age >  34.00\n",
            "|   |   |   |   |   |   |   |   |   |   |   |--- truncated branch of depth 2\n",
            "|   |   |   |   |   |   |   |   |--- age >  42.50\n",
            "|   |   |   |   |   |   |   |   |   |--- class: 2\n",
            "|   |   |   |   |   |   |--- income >  25123.50\n",
            "|   |   |   |   |   |   |   |--- age <= 58.50\n",
            "|   |   |   |   |   |   |   |   |--- age <= 46.50\n",
            "|   |   |   |   |   |   |   |   |   |--- income <= 25808.00\n",
            "|   |   |   |   |   |   |   |   |   |   |--- income <= 25779.00\n",
            "|   |   |   |   |   |   |   |   |   |   |   |--- truncated branch of depth 8\n",
            "|   |   |   |   |   |   |   |   |   |   |--- income >  25779.00\n",
            "|   |   |   |   |   |   |   |   |   |   |   |--- class: 2\n",
            "|   |   |   |   |   |   |   |   |   |--- income >  25808.00\n",
            "|   |   |   |   |   |   |   |   |   |   |--- income <= 26751.50\n",
            "|   |   |   |   |   |   |   |   |   |   |   |--- truncated branch of depth 7\n",
            "|   |   |   |   |   |   |   |   |   |   |--- income >  26751.50\n",
            "|   |   |   |   |   |   |   |   |   |   |   |--- truncated branch of depth 15\n",
            "|   |   |   |   |   |   |   |   |--- age >  46.50\n",
            "|   |   |   |   |   |   |   |   |   |--- income <= 26565.50\n",
            "|   |   |   |   |   |   |   |   |   |   |--- class: 0\n",
            "|   |   |   |   |   |   |   |   |   |--- income >  26565.50\n",
            "|   |   |   |   |   |   |   |   |   |   |--- income <= 26605.50\n",
            "|   |   |   |   |   |   |   |   |   |   |   |--- class: 2\n",
            "|   |   |   |   |   |   |   |   |   |   |--- income >  26605.50\n",
            "|   |   |   |   |   |   |   |   |   |   |   |--- truncated branch of depth 11\n",
            "|   |   |   |   |   |   |   |--- age >  58.50\n",
            "|   |   |   |   |   |   |   |   |--- income <= 29059.50\n",
            "|   |   |   |   |   |   |   |   |   |--- income <= 28222.50\n",
            "|   |   |   |   |   |   |   |   |   |   |--- income <= 28067.50\n",
            "|   |   |   |   |   |   |   |   |   |   |   |--- truncated branch of depth 9\n",
            "|   |   |   |   |   |   |   |   |   |   |--- income >  28067.50\n",
            "|   |   |   |   |   |   |   |   |   |   |   |--- truncated branch of depth 7\n",
            "|   |   |   |   |   |   |   |   |   |--- income >  28222.50\n",
            "|   |   |   |   |   |   |   |   |   |   |--- age <= 59.50\n",
            "|   |   |   |   |   |   |   |   |   |   |   |--- truncated branch of depth 3\n",
            "|   |   |   |   |   |   |   |   |   |   |--- age >  59.50\n",
            "|   |   |   |   |   |   |   |   |   |   |   |--- class: 0\n",
            "|   |   |   |   |   |   |   |   |--- income >  29059.50\n",
            "|   |   |   |   |   |   |   |   |   |--- age <= 63.00\n",
            "|   |   |   |   |   |   |   |   |   |   |--- age <= 61.50\n",
            "|   |   |   |   |   |   |   |   |   |   |   |--- class: 0\n",
            "|   |   |   |   |   |   |   |   |   |   |--- age >  61.50\n",
            "|   |   |   |   |   |   |   |   |   |   |   |--- truncated branch of depth 3\n",
            "|   |   |   |   |   |   |   |   |   |--- age >  63.00\n",
            "|   |   |   |   |   |   |   |   |   |   |--- class: 0\n",
            "|   |   |--- income >  29190.00\n",
            "|   |   |   |--- age <= 48.50\n",
            "|   |   |   |   |--- class: 0\n",
            "|   |   |   |--- age >  48.50\n",
            "|   |   |   |   |--- income <= 29200.00\n",
            "|   |   |   |   |   |--- income <= 29193.50\n",
            "|   |   |   |   |   |   |--- class: 2\n",
            "|   |   |   |   |   |--- income >  29193.50\n",
            "|   |   |   |   |   |   |--- class: 0\n",
            "|   |   |   |   |--- income >  29200.00\n",
            "|   |   |   |   |   |--- class: 2\n",
            "|   |--- income >  29255.00\n",
            "|   |   |--- income <= 29606.00\n",
            "|   |   |   |--- class: 0\n",
            "|   |   |--- income >  29606.00\n",
            "|   |   |   |--- income <= 29613.50\n",
            "|   |   |   |   |--- class: 2\n",
            "|   |   |   |--- income >  29613.50\n",
            "|   |   |   |   |--- income <= 29886.00\n",
            "|   |   |   |   |   |--- income <= 29883.50\n",
            "|   |   |   |   |   |   |--- income <= 29804.00\n",
            "|   |   |   |   |   |   |   |--- age <= 43.50\n",
            "|   |   |   |   |   |   |   |   |--- age <= 38.50\n",
            "|   |   |   |   |   |   |   |   |   |--- age <= 28.00\n",
            "|   |   |   |   |   |   |   |   |   |   |--- gender_Male <= 0.50\n",
            "|   |   |   |   |   |   |   |   |   |   |   |--- class: 2\n",
            "|   |   |   |   |   |   |   |   |   |   |--- gender_Male >  0.50\n",
            "|   |   |   |   |   |   |   |   |   |   |   |--- class: 0\n",
            "|   |   |   |   |   |   |   |   |   |--- age >  28.00\n",
            "|   |   |   |   |   |   |   |   |   |   |--- class: 0\n",
            "|   |   |   |   |   |   |   |   |--- age >  38.50\n",
            "|   |   |   |   |   |   |   |   |   |--- age <= 40.50\n",
            "|   |   |   |   |   |   |   |   |   |   |--- class: 2\n",
            "|   |   |   |   |   |   |   |   |   |--- age >  40.50\n",
            "|   |   |   |   |   |   |   |   |   |   |--- age <= 41.50\n",
            "|   |   |   |   |   |   |   |   |   |   |   |--- class: 0\n",
            "|   |   |   |   |   |   |   |   |   |   |--- age >  41.50\n",
            "|   |   |   |   |   |   |   |   |   |   |   |--- class: 2\n",
            "|   |   |   |   |   |   |   |--- age >  43.50\n",
            "|   |   |   |   |   |   |   |   |--- class: 0\n",
            "|   |   |   |   |   |   |--- income >  29804.00\n",
            "|   |   |   |   |   |   |   |--- income <= 29840.50\n",
            "|   |   |   |   |   |   |   |   |--- age <= 50.00\n",
            "|   |   |   |   |   |   |   |   |   |--- class: 2\n",
            "|   |   |   |   |   |   |   |   |--- age >  50.00\n",
            "|   |   |   |   |   |   |   |   |   |--- income <= 29830.50\n",
            "|   |   |   |   |   |   |   |   |   |   |--- class: 0\n",
            "|   |   |   |   |   |   |   |   |   |--- income >  29830.50\n",
            "|   |   |   |   |   |   |   |   |   |   |--- class: 2\n",
            "|   |   |   |   |   |   |   |--- income >  29840.50\n",
            "|   |   |   |   |   |   |   |   |--- class: 0\n",
            "|   |   |   |   |   |--- income >  29883.50\n",
            "|   |   |   |   |   |   |--- class: 2\n",
            "|   |   |   |   |--- income >  29886.00\n",
            "|   |   |   |   |   |--- income <= 162483.00\n",
            "|   |   |   |   |   |   |--- income <= 162128.00\n",
            "|   |   |   |   |   |   |   |--- income <= 155129.00\n",
            "|   |   |   |   |   |   |   |   |--- income <= 154694.00\n",
            "|   |   |   |   |   |   |   |   |   |--- income <= 152125.50\n",
            "|   |   |   |   |   |   |   |   |   |   |--- income <= 148379.00\n",
            "|   |   |   |   |   |   |   |   |   |   |   |--- truncated branch of depth 84\n",
            "|   |   |   |   |   |   |   |   |   |   |--- income >  148379.00\n",
            "|   |   |   |   |   |   |   |   |   |   |   |--- truncated branch of depth 19\n",
            "|   |   |   |   |   |   |   |   |   |--- income >  152125.50\n",
            "|   |   |   |   |   |   |   |   |   |   |--- income <= 152237.50\n",
            "|   |   |   |   |   |   |   |   |   |   |   |--- truncated branch of depth 9\n",
            "|   |   |   |   |   |   |   |   |   |   |--- income >  152237.50\n",
            "|   |   |   |   |   |   |   |   |   |   |   |--- truncated branch of depth 13\n",
            "|   |   |   |   |   |   |   |   |--- income >  154694.00\n",
            "|   |   |   |   |   |   |   |   |   |--- income <= 154740.00\n",
            "|   |   |   |   |   |   |   |   |   |   |--- class: 2\n",
            "|   |   |   |   |   |   |   |   |   |--- income >  154740.00\n",
            "|   |   |   |   |   |   |   |   |   |   |--- income <= 155115.00\n",
            "|   |   |   |   |   |   |   |   |   |   |   |--- truncated branch of depth 5\n",
            "|   |   |   |   |   |   |   |   |   |   |--- income >  155115.00\n",
            "|   |   |   |   |   |   |   |   |   |   |   |--- class: 2\n",
            "|   |   |   |   |   |   |   |--- income >  155129.00\n",
            "|   |   |   |   |   |   |   |   |--- income <= 158944.50\n",
            "|   |   |   |   |   |   |   |   |   |--- income <= 157487.50\n",
            "|   |   |   |   |   |   |   |   |   |   |--- income <= 157426.00\n",
            "|   |   |   |   |   |   |   |   |   |   |   |--- truncated branch of depth 10\n",
            "|   |   |   |   |   |   |   |   |   |   |--- income >  157426.00\n",
            "|   |   |   |   |   |   |   |   |   |   |   |--- class: 2\n",
            "|   |   |   |   |   |   |   |   |   |--- income >  157487.50\n",
            "|   |   |   |   |   |   |   |   |   |   |--- class: 0\n",
            "|   |   |   |   |   |   |   |   |--- income >  158944.50\n",
            "|   |   |   |   |   |   |   |   |   |--- income <= 159010.50\n",
            "|   |   |   |   |   |   |   |   |   |   |--- age <= 49.00\n",
            "|   |   |   |   |   |   |   |   |   |   |   |--- class: 2\n",
            "|   |   |   |   |   |   |   |   |   |   |--- age >  49.00\n",
            "|   |   |   |   |   |   |   |   |   |   |   |--- class: 0\n",
            "|   |   |   |   |   |   |   |   |   |--- income >  159010.50\n",
            "|   |   |   |   |   |   |   |   |   |   |--- income <= 159184.50\n",
            "|   |   |   |   |   |   |   |   |   |   |   |--- truncated branch of depth 3\n",
            "|   |   |   |   |   |   |   |   |   |   |--- income >  159184.50\n",
            "|   |   |   |   |   |   |   |   |   |   |   |--- truncated branch of depth 6\n",
            "|   |   |   |   |   |   |--- income >  162128.00\n",
            "|   |   |   |   |   |   |   |--- income <= 162217.50\n",
            "|   |   |   |   |   |   |   |   |--- class: 2\n",
            "|   |   |   |   |   |   |   |--- income >  162217.50\n",
            "|   |   |   |   |   |   |   |   |--- income <= 162465.50\n",
            "|   |   |   |   |   |   |   |   |   |--- class: 0\n",
            "|   |   |   |   |   |   |   |   |--- income >  162465.50\n",
            "|   |   |   |   |   |   |   |   |   |--- class: 2\n",
            "|   |   |   |   |   |--- income >  162483.00\n",
            "|   |   |   |   |   |   |--- age <= 55.50\n",
            "|   |   |   |   |   |   |   |--- class: 0\n",
            "|   |   |   |   |   |   |--- age >  55.50\n",
            "|   |   |   |   |   |   |   |--- age <= 57.50\n",
            "|   |   |   |   |   |   |   |   |--- income <= 164794.50\n",
            "|   |   |   |   |   |   |   |   |   |--- class: 0\n",
            "|   |   |   |   |   |   |   |   |--- income >  164794.50\n",
            "|   |   |   |   |   |   |   |   |   |--- class: 2\n",
            "|   |   |   |   |   |   |   |--- age >  57.50\n",
            "|   |   |   |   |   |   |   |   |--- class: 0\n",
            "\n"
          ]
        }
      ],
      "source": [
        "printed_tree = export_text(treeClass,feature_names=features)\n",
        "print(printed_tree)"
      ]
    },
    {
      "cell_type": "markdown",
      "metadata": {
        "id": "2EVvQJxA1BgL"
      },
      "source": [
        "## Tuning parameters - Testing Set Sizes\n",
        "\n",
        "To make our models run better we can tweak _many, many, many_ different parameters. For example, we can vary the testing data size percentage. We'll try some different values and plot our our accuracy of our predictions."
      ]
    },
    {
      "cell_type": "code",
      "execution_count": 47,
      "metadata": {
        "scrolled": false,
        "id": "tN82EY_C1BgL",
        "outputId": "28be2cf7-31ff-4af3-c0f7-f5e3fdbf1888",
        "colab": {
          "base_uri": "https://localhost:8080/",
          "height": 449
        }
      },
      "outputs": [
        {
          "output_type": "display_data",
          "data": {
            "text/plain": [
              "<Figure size 640x480 with 1 Axes>"
            ],
            "image/png": "[encoded data removed]"
          },
          "metadata": {}
        }
      ],
      "source": [
        "testing_percents = [1,5,10,20,30,99]\n",
        "accuracy = []\n",
        "training_percents = []\n",
        "\n",
        "for test_ratio in sorted(testing_percents):\n",
        "    X_train, X_test, y_train, y_test = train_test_split(X, \\\n",
        "                                                        y, \\\n",
        "                                                        test_size=test_percent/100.0,\n",
        "                                                        random_state=10)\n",
        "    treeClassTest = DecisionTreeClassifier()\n",
        "    treeClassTest = treeClassTest.fit(X_train,y_train)\n",
        "    y_pred = treeClassTest.predict(X_test)\n",
        "    score = metrics.accuracy_score(y_test,y_pred)\n",
        "    accuracy.append(score)\n",
        "    training_percents.append(100 - test_ratio)\n",
        "\n",
        "\n",
        "plt.plot(training_percents,accuracy)\n",
        "plt.ylabel(\"Accuracy in %\")\n",
        "plt.xlabel(\"Training Size %\")\n",
        "plt.show()"
      ]
    },
    {
      "cell_type": "markdown",
      "metadata": {
        "id": "PsZtkAB11BgL"
      },
      "source": [
        "(Your graph might look different, this is a statistical operation and will probably vary across different machines)"
      ]
    },
    {
      "cell_type": "markdown",
      "metadata": {
        "id": "swDQdNba1BgL"
      },
      "source": [
        "## Tuning Parameters - Maximum depth of the tree\n",
        "\n",
        "We can restrict how deep our tree will be by setting `max_depth` in our `DecisionTreeClassifier` variable. Below is another example of trying different values in our ML model for this parameter and plotting out the accuracy of our model."
      ]
    },
    {
      "cell_type": "code",
      "execution_count": 48,
      "metadata": {
        "id": "mtNF_78S1BgL",
        "outputId": "d955898b-b315-433c-8da1-368956c43baf",
        "colab": {
          "base_uri": "https://localhost:8080/",
          "height": 452
        }
      },
      "outputs": [
        {
          "output_type": "display_data",
          "data": {
            "text/plain": [
              "<Figure size 640x480 with 1 Axes>"
            ],
            "image/png": "[encoded data removed]"
          },
          "metadata": {}
        }
      ],
      "source": [
        "test_percent = 70\n",
        "max_options = [5,10,15,20,25,30]\n",
        "\n",
        "accuracy = []\n",
        "tree_max = []\n",
        "\n",
        "for max_d in sorted(max_options):\n",
        "    X_train, X_test, y_train, y_test = train_test_split(X, \\\n",
        "                                                        y, \\\n",
        "                                                        test_size=test_percent/100.0,\n",
        "                                                        random_state=10,\n",
        "                                                       )\n",
        "\n",
        "    #We set maximum depth in the DecisionTreeClassifer when we first create the variable\n",
        "    treeClassTest = DecisionTreeClassifier(max_depth=max_d)\n",
        "    treeClassTest = treeClassTest.fit(X_train,y_train)\n",
        "    y_pred = treeClassTest.predict(X_test)\n",
        "    score = metrics.accuracy_score(y_test,y_pred)\n",
        "    accuracy.append(score)\n",
        "    tree_max.append(max_d)\n",
        "\n",
        "\n",
        "plt.plot(max_options,accuracy)\n",
        "plt.ylabel(\"Accuracy\")\n",
        "plt.xlabel(\"Maximum Depth of Tree\")\n",
        "plt.show()"
      ]
    },
    {
      "cell_type": "markdown",
      "metadata": {
        "id": "rOrvxSq91BgL"
      },
      "source": [
        "# Example 2\n",
        "\n",
        "We are going to look at a [cancer survivor data set](http://archive.ics.uci.edu/ml/datasets/Haberman%27s+Survival) from the UCI machine learning archive.\n",
        "\n",
        "![cancer_description](https://raw.githubusercontent.com/BrockDSL/Machine_Learning_with_Python/master/cancer_characteristics.png)\n"
      ]
    },
    {
      "cell_type": "code",
      "execution_count": 49,
      "metadata": {
        "scrolled": false,
        "id": "XI_mkpC51BgL",
        "outputId": "b7eaf543-432b-4614-a5a6-ed9864675a96",
        "colab": {
          "base_uri": "https://localhost:8080/",
          "height": 300
        }
      },
      "outputs": [
        {
          "output_type": "execute_result",
          "data": {
            "text/plain": [
              "              age  operation_year  positive_nodes  survival_status\n",
              "count  306.000000      306.000000      306.000000       306.000000\n",
              "mean    52.457516       62.852941        4.026144         1.264706\n",
              "std     10.803452        3.249405        7.189654         0.441899\n",
              "min     30.000000       58.000000        0.000000         1.000000\n",
              "25%     44.000000       60.000000        0.000000         1.000000\n",
              "50%     52.000000       63.000000        1.000000         1.000000\n",
              "75%     60.750000       65.750000        4.000000         2.000000\n",
              "max     83.000000       69.000000       52.000000         2.000000"
            ],
            "text/html": [
              "\n",
              "  <div id=\"df-6124bc22-762f-475c-91e6-edf7797ebb6a\" class=\"colab-df-container\">\n",
              "    <div>\n",
              "<style scoped>\n",
              "    .dataframe tbody tr th:only-of-type {\n",
              "        vertical-align: middle;\n",
              "    }\n",
              "\n",
              "    .dataframe tbody tr th {\n",
              "        vertical-align: top;\n",
              "    }\n",
              "\n",
              "    .dataframe thead th {\n",
              "        text-align: right;\n",
              "    }\n",
              "</style>\n",
              "<table border=\"1\" class=\"dataframe\">\n",
              "  <thead>\n",
              "    <tr style=\"text-align: right;\">\n",
              "      <th></th>\n",
              "      <th>age</th>\n",
              "      <th>operation_year</th>\n",
              "      <th>positive_nodes</th>\n",
              "      <th>survival_status</th>\n",
              "    </tr>\n",
              "  </thead>\n",
              "  <tbody>\n",
              "    <tr>\n",
              "      <th>count</th>\n",
              "      <td>306.000000</td>\n",
              "      <td>306.000000</td>\n",
              "      <td>306.000000</td>\n",
              "      <td>306.000000</td>\n",
              "    </tr>\n",
              "    <tr>\n",
              "      <th>mean</th>\n",
              "      <td>52.457516</td>\n",
              "      <td>62.852941</td>\n",
              "      <td>4.026144</td>\n",
              "      <td>1.264706</td>\n",
              "    </tr>\n",
              "    <tr>\n",
              "      <th>std</th>\n",
              "      <td>10.803452</td>\n",
              "      <td>3.249405</td>\n",
              "      <td>7.189654</td>\n",
              "      <td>0.441899</td>\n",
              "    </tr>\n",
              "    <tr>\n",
              "      <th>min</th>\n",
              "      <td>30.000000</td>\n",
              "      <td>58.000000</td>\n",
              "      <td>0.000000</td>\n",
              "      <td>1.000000</td>\n",
              "    </tr>\n",
              "    <tr>\n",
              "      <th>25%</th>\n",
              "      <td>44.000000</td>\n",
              "      <td>60.000000</td>\n",
              "      <td>0.000000</td>\n",
              "      <td>1.000000</td>\n",
              "    </tr>\n",
              "    <tr>\n",
              "      <th>50%</th>\n",
              "      <td>52.000000</td>\n",
              "      <td>63.000000</td>\n",
              "      <td>1.000000</td>\n",
              "      <td>1.000000</td>\n",
              "    </tr>\n",
              "    <tr>\n",
              "      <th>75%</th>\n",
              "      <td>60.750000</td>\n",
              "      <td>65.750000</td>\n",
              "      <td>4.000000</td>\n",
              "      <td>2.000000</td>\n",
              "    </tr>\n",
              "    <tr>\n",
              "      <th>max</th>\n",
              "      <td>83.000000</td>\n",
              "      <td>69.000000</td>\n",
              "      <td>52.000000</td>\n",
              "      <td>2.000000</td>\n",
              "    </tr>\n",
              "  </tbody>\n",
              "</table>\n",
              "</div>\n",
              "    <div class=\"colab-df-buttons\">\n",
              "\n",
              "  <div class=\"colab-df-container\">\n",
              "    <button class=\"colab-df-convert\" onclick=\"convertToInteractive('df-6124bc22-762f-475c-91e6-edf7797ebb6a')\"\n",
              "            title=\"Convert this dataframe to an interactive table.\"\n",
              "            style=\"display:none;\">\n",
              "\n",
              "  <svg xmlns=\"http://www.w3.org/2000/svg\" height=\"24px\" viewBox=\"0 -960 960 960\">\n",
              "    <path d=\"M120-120v-720h720v720H120Zm60-500h600v-160H180v160Zm220 220h160v-160H400v160Zm0 220h160v-160H400v160ZM180-400h160v-160H180v160Zm440 0h160v-160H620v160ZM180-180h160v-160H180v160Zm440 0h160v-160H620v160Z\"/>\n",
              "  </svg>\n",
              "    </button>\n",
              "\n",
              "  <style>\n",
              "    .colab-df-container {\n",
              "      display:flex;\n",
              "      gap: 12px;\n",
              "    }\n",
              "\n",
              "    .colab-df-convert {\n",
              "      background-color: #E8F0FE;\n",
              "      border: none;\n",
              "      border-radius: 50%;\n",
              "      cursor: pointer;\n",
              "      display: none;\n",
              "      fill: #1967D2;\n",
              "      height: 32px;\n",
              "      padding: 0 0 0 0;\n",
              "      width: 32px;\n",
              "    }\n",
              "\n",
              "    .colab-df-convert:hover {\n",
              "      background-color: #E2EBFA;\n",
              "      box-shadow: 0px 1px 2px rgba(60, 64, 67, 0.3), 0px 1px 3px 1px rgba(60, 64, 67, 0.15);\n",
              "      fill: #174EA6;\n",
              "    }\n",
              "\n",
              "    .colab-df-buttons div {\n",
              "      margin-bottom: 4px;\n",
              "    }\n",
              "\n",
              "    [theme=dark] .colab-df-convert {\n",
              "      background-color: #3B4455;\n",
              "      fill: #D2E3FC;\n",
              "    }\n",
              "\n",
              "    [theme=dark] .colab-df-convert:hover {\n",
              "      background-color: #434B5C;\n",
              "      box-shadow: 0px 1px 3px 1px rgba(0, 0, 0, 0.15);\n",
              "      filter: drop-shadow(0px 1px 2px rgba(0, 0, 0, 0.3));\n",
              "      fill: #FFFFFF;\n",
              "    }\n",
              "  </style>\n",
              "\n",
              "    <script>\n",
              "      const buttonEl =\n",
              "        document.querySelector('#df-6124bc22-762f-475c-91e6-edf7797ebb6a button.colab-df-convert');\n",
              "      buttonEl.style.display =\n",
              "        google.colab.kernel.accessAllowed ? 'block' : 'none';\n",
              "\n",
              "      async function convertToInteractive(key) {\n",
              "        const element = document.querySelector('#df-6124bc22-762f-475c-91e6-edf7797ebb6a');\n",
              "        const dataTable =\n",
              "          await google.colab.kernel.invokeFunction('convertToInteractive',\n",
              "                                                    [key], {});\n",
              "        if (!dataTable) return;\n",
              "\n",
              "        const docLinkHtml = 'Like what you see? Visit the ' +\n",
              "          '<a target=\"_blank\" href=https://colab.research.google.com/notebooks/data_table.ipynb>data table notebook</a>'\n",
              "          + ' to learn more about interactive tables.';\n",
              "        element.innerHTML = '';\n",
              "        dataTable['output_type'] = 'display_data';\n",
              "        await google.colab.output.renderOutput(dataTable, element);\n",
              "        const docLink = document.createElement('div');\n",
              "        docLink.innerHTML = docLinkHtml;\n",
              "        element.appendChild(docLink);\n",
              "      }\n",
              "    </script>\n",
              "  </div>\n",
              "\n",
              "\n",
              "<div id=\"df-9d1762bc-df8b-4482-abb8-ac7c48a34e18\">\n",
              "  <button class=\"colab-df-quickchart\" onclick=\"quickchart('df-9d1762bc-df8b-4482-abb8-ac7c48a34e18')\"\n",
              "            title=\"Suggest charts\"\n",
              "            style=\"display:none;\">\n",
              "\n",
              "<svg xmlns=\"http://www.w3.org/2000/svg\" height=\"24px\"viewBox=\"0 0 24 24\"\n",
              "     width=\"24px\">\n",
              "    <g>\n",
              "        <path d=\"M19 3H5c-1.1 0-2 .9-2 2v14c0 1.1.9 2 2 2h14c1.1 0 2-.9 2-2V5c0-1.1-.9-2-2-2zM9 17H7v-7h2v7zm4 0h-2V7h2v10zm4 0h-2v-4h2v4z\"/>\n",
              "    </g>\n",
              "</svg>\n",
              "  </button>\n",
              "\n",
              "<style>\n",
              "  .colab-df-quickchart {\n",
              "      --bg-color: #E8F0FE;\n",
              "      --fill-color: #1967D2;\n",
              "      --hover-bg-color: #E2EBFA;\n",
              "      --hover-fill-color: #174EA6;\n",
              "      --disabled-fill-color: #AAA;\n",
              "      --disabled-bg-color: #DDD;\n",
              "  }\n",
              "\n",
              "  [theme=dark] .colab-df-quickchart {\n",
              "      --bg-color: #3B4455;\n",
              "      --fill-color: #D2E3FC;\n",
              "      --hover-bg-color: #434B5C;\n",
              "      --hover-fill-color: #FFFFFF;\n",
              "      --disabled-bg-color: #3B4455;\n",
              "      --disabled-fill-color: #666;\n",
              "  }\n",
              "\n",
              "  .colab-df-quickchart {\n",
              "    background-color: var(--bg-color);\n",
              "    border: none;\n",
              "    border-radius: 50%;\n",
              "    cursor: pointer;\n",
              "    display: none;\n",
              "    fill: var(--fill-color);\n",
              "    height: 32px;\n",
              "    padding: 0;\n",
              "    width: 32px;\n",
              "  }\n",
              "\n",
              "  .colab-df-quickchart:hover {\n",
              "    background-color: var(--hover-bg-color);\n",
              "    box-shadow: 0 1px 2px rgba(60, 64, 67, 0.3), 0 1px 3px 1px rgba(60, 64, 67, 0.15);\n",
              "    fill: var(--button-hover-fill-color);\n",
              "  }\n",
              "\n",
              "  .colab-df-quickchart-complete:disabled,\n",
              "  .colab-df-quickchart-complete:disabled:hover {\n",
              "    background-color: var(--disabled-bg-color);\n",
              "    fill: var(--disabled-fill-color);\n",
              "    box-shadow: none;\n",
              "  }\n",
              "\n",
              "  .colab-df-spinner {\n",
              "    border: 2px solid var(--fill-color);\n",
              "    border-color: transparent;\n",
              "    border-bottom-color: var(--fill-color);\n",
              "    animation:\n",
              "      spin 1s steps(1) infinite;\n",
              "  }\n",
              "\n",
              "  @keyframes spin {\n",
              "    0% {\n",
              "      border-color: transparent;\n",
              "      border-bottom-color: var(--fill-color);\n",
              "      border-left-color: var(--fill-color);\n",
              "    }\n",
              "    20% {\n",
              "      border-color: transparent;\n",
              "      border-left-color: var(--fill-color);\n",
              "      border-top-color: var(--fill-color);\n",
              "    }\n",
              "    30% {\n",
              "      border-color: transparent;\n",
              "      border-left-color: var(--fill-color);\n",
              "      border-top-color: var(--fill-color);\n",
              "      border-right-color: var(--fill-color);\n",
              "    }\n",
              "    40% {\n",
              "      border-color: transparent;\n",
              "      border-right-color: var(--fill-color);\n",
              "      border-top-color: var(--fill-color);\n",
              "    }\n",
              "    60% {\n",
              "      border-color: transparent;\n",
              "      border-right-color: var(--fill-color);\n",
              "    }\n",
              "    80% {\n",
              "      border-color: transparent;\n",
              "      border-right-color: var(--fill-color);\n",
              "      border-bottom-color: var(--fill-color);\n",
              "    }\n",
              "    90% {\n",
              "      border-color: transparent;\n",
              "      border-bottom-color: var(--fill-color);\n",
              "    }\n",
              "  }\n",
              "</style>\n",
              "\n",
              "  <script>\n",
              "    async function quickchart(key) {\n",
              "      const quickchartButtonEl =\n",
              "        document.querySelector('#' + key + ' button');\n",
              "      quickchartButtonEl.disabled = true;  // To prevent multiple clicks.\n",
              "      quickchartButtonEl.classList.add('colab-df-spinner');\n",
              "      try {\n",
              "        const charts = await google.colab.kernel.invokeFunction(\n",
              "            'suggestCharts', [key], {});\n",
              "      } catch (error) {\n",
              "        console.error('Error during call to suggestCharts:', error);\n",
              "      }\n",
              "      quickchartButtonEl.classList.remove('colab-df-spinner');\n",
              "      quickchartButtonEl.classList.add('colab-df-quickchart-complete');\n",
              "    }\n",
              "    (() => {\n",
              "      let quickchartButtonEl =\n",
              "        document.querySelector('#df-9d1762bc-df8b-4482-abb8-ac7c48a34e18 button');\n",
              "      quickchartButtonEl.style.display =\n",
              "        google.colab.kernel.accessAllowed ? 'block' : 'none';\n",
              "    })();\n",
              "  </script>\n",
              "</div>\n",
              "\n",
              "    </div>\n",
              "  </div>\n"
            ],
            "application/vnd.google.colaboratory.intrinsic+json": {
              "type": "dataframe",
              "summary": "{\n  \"name\": \"cancer_data\",\n  \"rows\": 8,\n  \"fields\": [\n    {\n      \"column\": \"age\",\n      \"properties\": {\n        \"dtype\": \"number\",\n        \"std\": 93.79475376745073,\n        \"min\": 10.80345234930328,\n        \"max\": 306.0,\n        \"num_unique_values\": 8,\n        \"samples\": [\n          52.45751633986928,\n          52.0,\n          306.0\n        ],\n        \"semantic_type\": \"\",\n        \"description\": \"\"\n      }\n    },\n    {\n      \"column\": \"operation_year\",\n      \"properties\": {\n        \"dtype\": \"number\",\n        \"std\": 91.39514455339513,\n        \"min\": 3.249404663223851,\n        \"max\": 306.0,\n        \"num_unique_values\": 8,\n        \"samples\": [\n          62.85294117647059,\n          63.0,\n          306.0\n        ],\n        \"semantic_type\": \"\",\n        \"description\": \"\"\n      }\n    },\n    {\n      \"column\": \"positive_nodes\",\n      \"properties\": {\n        \"dtype\": \"number\",\n        \"std\": 106.18058612102219,\n        \"min\": 0.0,\n        \"max\": 306.0,\n        \"num_unique_values\": 7,\n        \"samples\": [\n          306.0,\n          4.026143790849673,\n          4.0\n        ],\n        \"semantic_type\": \"\",\n        \"description\": \"\"\n      }\n    },\n    {\n      \"column\": \"survival_status\",\n      \"properties\": {\n        \"dtype\": \"number\",\n        \"std\": 107.74889051591661,\n        \"min\": 0.44189911885403554,\n        \"max\": 306.0,\n        \"num_unique_values\": 5,\n        \"samples\": [\n          1.2647058823529411,\n          2.0,\n          0.44189911885403554\n        ],\n        \"semantic_type\": \"\",\n        \"description\": \"\"\n      }\n    }\n  ]\n}"
            }
          },
          "metadata": {},
          "execution_count": 49
        }
      ],
      "source": [
        "cancer_data = pd.read_csv(\"http://archive.ics.uci.edu/ml/machine-learning-databases/haberman/haberman.data\",header=None)\n",
        "cancer_data.columns = [\"age\",\"operation_year\",\"positive_nodes\",\"survival_status\"]\n",
        "cancer_data.describe()"
      ]
    },
    {
      "cell_type": "markdown",
      "metadata": {
        "id": "P3q3T9Zb1BgL"
      },
      "source": [
        "## Setting up our model\n",
        "\n",
        "## Question 2\n",
        "\n",
        "- What should our features list look like?\n",
        "- What should or target column be\n",
        "\n",
        "You need to do two things:\n",
        "1. uncomment one line between **line 3 & line 7**\n",
        "2. uncomment one line between **line 13 & line 16**"
      ]
    },
    {
      "cell_type": "code",
      "execution_count": 51,
      "metadata": {
        "id": "nTpo5x801BgL"
      },
      "outputs": [],
      "source": [
        "#What features list should we use, uncomment the correct answer\n",
        "\n",
        "cancer_features = [\"age\",\"operation_year\",\"positive_nodes\",\"survival_status\"]\n",
        "cancer_features = [\"age\",\"operation_year\",\"positive_nodes\"]\n",
        "cancer_features = [\"age\",\"operation_year\"]\n",
        "cancer_features = [\"age\"]\n",
        "cancer_features = [\"operation_year\",\"positive_nodes\",\"survival_status\"]\n",
        "\n",
        "\n",
        "#What target should we use, uncomment the correct answer\n",
        "\n",
        "cancer_target = cancer_data.age\n",
        "cancer_target = cancer_data.operation_year\n",
        "cancer_target = cancer_data.positive_nodes\n",
        "cancer_target = cancer_data.survival_status\n",
        "\n",
        "X = cancer_data[cancer_features]\n",
        "y = cancer_target"
      ]
    },
    {
      "cell_type": "markdown",
      "metadata": {
        "id": "UtZTluKk1BgN"
      },
      "source": [
        "## Question 2\n",
        "\n",
        "## Continued\n",
        "\n",
        "Now that you have your features and target set, run the next cell to build and test your model.\n",
        "\n",
        "Once you are done type \"finished\" in the chatbox."
      ]
    },
    {
      "cell_type": "code",
      "execution_count": 52,
      "metadata": {
        "id": "vzVPmWQA1BgO",
        "outputId": "c90b593e-4b0f-4d2a-826b-a6d057aa3c57",
        "colab": {
          "base_uri": "https://localhost:8080/"
        }
      },
      "outputs": [
        {
          "output_type": "stream",
          "name": "stdout",
          "text": [
            "Accuracy:\n",
            "1.0\n"
          ]
        }
      ],
      "source": [
        "#We'll start with 40 just for fun\n",
        "test_percent = 40\n",
        "\n",
        "X_train, X_test, y_train, y_test = train_test_split(X, \\\n",
        "                                                    y, \\\n",
        "                                                    test_size=test_percent/100.0,\n",
        "                                                   random_state=10)\n",
        "# Create Decision Tree classifer object\n",
        "treeClass = DecisionTreeClassifier()\n",
        "\n",
        "# Train\n",
        "treeClass = treeClass.fit(X_train,y_train)\n",
        "\n",
        "#Predict\n",
        "y_pred = treeClass.predict(X_test)\n",
        "\n",
        "#Accuracy\n",
        "print(\"Accuracy:\")\n",
        "print(metrics.accuracy_score(y_test,y_pred))"
      ]
    },
    {
      "cell_type": "markdown",
      "metadata": {
        "id": "TVDvA-_R1BgO"
      },
      "source": [
        "### Visualizing the tree\n",
        "\n",
        "Now that we have a tree built for this scenario let's display it to the screen."
      ]
    },
    {
      "cell_type": "code",
      "execution_count": 53,
      "metadata": {
        "id": "QUkxg_oi1BgO",
        "outputId": "e9d5610a-57e4-4e6c-f879-9d50008f2af2",
        "colab": {
          "base_uri": "https://localhost:8080/"
        }
      },
      "outputs": [
        {
          "output_type": "stream",
          "name": "stdout",
          "text": [
            "|--- survival_status <= 1.50\n",
            "|   |--- class: 1\n",
            "|--- survival_status >  1.50\n",
            "|   |--- class: 2\n",
            "\n"
          ]
        }
      ],
      "source": [
        "printed_tree = export_text(treeClass,feature_names=cancer_features)\n",
        "print(printed_tree)"
      ]
    },
    {
      "cell_type": "markdown",
      "metadata": {
        "id": "aNL6vh6X1BgO"
      },
      "source": [
        "## Tuning the testing set size\n",
        "\n",
        "## Question 3\n",
        "\n",
        "Experiment with adding some values in the `testing_percents_cancer` list on **line 3**.\n",
        "\n",
        "In the chat box put in the testing set size that produced the best results.\n",
        "\n",
        "When you are done experiementing type \"Done!\" in the chat box."
      ]
    },
    {
      "cell_type": "code",
      "execution_count": 54,
      "metadata": {
        "scrolled": true,
        "id": "KH6chnsN1BgO",
        "outputId": "4840f6ba-5bf8-45cc-9557-ec3f3c7df9c3",
        "colab": {
          "base_uri": "https://localhost:8080/",
          "height": 108
        }
      },
      "outputs": [
        {
          "output_type": "error",
          "ename": "SyntaxError",
          "evalue": "invalid syntax (<ipython-input-54-490c4a3cd173>, line 3)",
          "traceback": [
            "\u001b[0;36m  File \u001b[0;32m\"<ipython-input-54-490c4a3cd173>\"\u001b[0;36m, line \u001b[0;32m3\u001b[0m\n\u001b[0;31m    testing_percents_cancer = [,,,]\u001b[0m\n\u001b[0m                               ^\u001b[0m\n\u001b[0;31mSyntaxError\u001b[0m\u001b[0;31m:\u001b[0m invalid syntax\n"
          ]
        }
      ],
      "source": [
        "# put in some values between 0 - 99\n",
        "# add at least 4 values in between the commas\n",
        "testing_percents_cancer = [,,,]\n",
        "\n",
        "#Let's make sure the numbers are all increasing so our graph looks good\n",
        "testing_percents_cancer = sorted(testing_percents_cancer)\n",
        "\n",
        "accuracy = []\n",
        "training_percents = []\n",
        "\n",
        "for test_ratio in testing_percents_cancer:\n",
        "    X_train, X_test, y_train, y_test = train_test_split(X, \\\n",
        "                                                        y, \\\n",
        "                                                        test_size=test_percent/100.0,\n",
        "                                                        random_state=10)\n",
        "    treeClassTest = DecisionTreeClassifier()\n",
        "    treeClassTest = treeClassTest.fit(X_train,y_train)\n",
        "    y_pred = treeClassTest.predict(X_test)\n",
        "    score = metrics.accuracy_score(y_test,y_pred)\n",
        "    accuracy.append(score)\n",
        "    training_percents.append(100 - test_ratio)\n",
        "\n",
        "\n",
        "plt.plot(training_percents,accuracy)\n",
        "plt.ylabel(\"Accuracy in %\")\n",
        "plt.xlabel(\"Training Size %\")\n",
        "plt.show()"
      ]
    },
    {
      "cell_type": "markdown",
      "metadata": {
        "id": "cbvd5FTr1BgO"
      },
      "source": [
        "## Turning Parameters, Maximum Tree Depth\n",
        "\n",
        "## Question 4\n",
        "\n",
        "Experiment with adding some values in the `max_options_cancer` list on **line 5**.\n",
        "\n",
        "In the chat box put in the testing set size that produced the best results.\n",
        "\n",
        "When you are done experiementing type \"Done!\" in the chat box."
      ]
    },
    {
      "cell_type": "code",
      "execution_count": null,
      "metadata": {
        "id": "MJ8L-MEd1BgO"
      },
      "outputs": [],
      "source": [
        "test_percent = 30\n",
        "\n",
        "#Put in some options between 1 and 40\n",
        "#add at least 4 values between the commas\n",
        "max_options_cancer = [,,,]\n",
        "\n",
        "#Let's make sure the numbers are all increasing so our graph looks good\n",
        "max_options_cancer = sorted(max_options_cancer)\n",
        "\n",
        "accuracy = []\n",
        "tree_max = []\n",
        "\n",
        "for max_d in max_options_cancer:\n",
        "    X_train, X_test, y_train, y_test = train_test_split(X, \\\n",
        "                                                        y, \\\n",
        "                                                        test_size=test_percent/100.0,\n",
        "                                                        random_state=10,\n",
        "                                                       )\n",
        "\n",
        "    #We set maximum depth in the DecisionTreeClassifer when we first create the variable\n",
        "    treeClassTest = DecisionTreeClassifier(max_depth=max_d)\n",
        "    treeClassTest = treeClassTest.fit(X_train,y_train)\n",
        "    y_pred = treeClassTest.predict(X_test)\n",
        "    score = metrics.accuracy_score(y_test,y_pred)\n",
        "    accuracy.append(score)\n",
        "    tree_max.append(max_d)\n",
        "\n",
        "\n",
        "plt.plot(max_options_cancer,accuracy)\n",
        "plt.ylabel(\"Accuracy\")\n",
        "plt.xlabel(\"Maximum Depth of Tree\")\n",
        "plt.show()\n",
        "\n"
      ]
    },
    {
      "cell_type": "markdown",
      "metadata": {
        "id": "9mRixKkp1BgO"
      },
      "source": [
        "## Maximizing Accuracy\n",
        "\n",
        "## Question 5\n",
        "\n",
        "- What is the best combination of `max_depth` and `testing size` that produced the *highest* accuracy?\n",
        "- What is the worst combination of `max_depth` and `testing size` that produced the *lowest* acccuracy?\n",
        "\n",
        "You just need to add some values to **line 3** & **line 4**.\n",
        "\n",
        "Share your answers in the chat.\n",
        "\n",
        "You can experiment using the following cell:"
      ]
    },
    {
      "cell_type": "code",
      "execution_count": null,
      "metadata": {
        "id": "mu2K--jK1BgO"
      },
      "outputs": [],
      "source": [
        "\n",
        "#Change the following values\n",
        "test_percent =\n",
        "max_tree_depth =\n",
        "\n",
        "#HINT: You can use the previous graphs to help you pick your values\n",
        "\n",
        "X_train, X_test, y_train, y_test = train_test_split(X, \\\n",
        "                                                    y, \\\n",
        "                                                    test_size=test_percent/100.0,\n",
        "                                                   random_state=10)\n",
        "# Create Decision Tree classifer object\n",
        "treeClass = DecisionTreeClassifier(max_depth=max_tree_depth)\n",
        "\n",
        "# Train\n",
        "treeClass = treeClass.fit(X_train,y_train)\n",
        "\n",
        "#Predict\n",
        "y_pred = treeClass.predict(X_test)\n",
        "\n",
        "#Accuracy?\n",
        "print(\"\\nAccuracy of our tree: \")\n",
        "print(metrics.accuracy_score(y_test,y_pred))\n",
        "\n",
        "\n",
        "#Display our final tree\n",
        "print(\"\\nBest tree found:\\n\")\n",
        "printed_tree = export_text(treeClass,feature_names=cancer_features)\n",
        "print(printed_tree)"
      ]
    },
    {
      "cell_type": "markdown",
      "metadata": {
        "id": "WhByZcvz1BgO"
      },
      "source": [
        "## Congrats!\n",
        "\n",
        "We have just scratched the surface with what is possible with Python and SciKit. Remember, don't let the name **Machine Learning** fool you. Most of the time the computer is making guesses based on past data. Sometimes this works good, sometimes it doesn't work so good!"
      ]
    },
    {
      "cell_type": "markdown",
      "metadata": {
        "id": "OznqTe6t1BgO"
      },
      "source": [
        "## Further Reading\n",
        "\n",
        "- [UCI Machine Learning Archive](http://archive.ics.uci.edu/ml) A place to find good data sets that you can use to build models with\n",
        "\n",
        "- [A Gentle Introduction to Scikit-Learn](https://machinelearningmastery.com/a-gentle-introduction-to-scikit-learn-a-python-machine-learning-library/)\n",
        "\n",
        "- [Data Science Handbook by Field Cady](https://onlinelibrary.wiley.com/doi/book/10.1002/9781119092919)\n",
        "\n",
        "- [Deep Learning with Python](https://www.manning.com/books/deep-learning-with-python) - A bit more complex, but is a good next step\n",
        "\n",
        "- [Kaggle](https://kagge.com) - A great website with lots of tutorials and data sets to learn and experiment with\n",
        "- [Python for Librarians](https://libraryjuiceacademy.com/shop/course/270-python-for-librarians/) - A 4 week course that I teach that explores Python, data science, and machine learning.\n"
      ]
    },
    {
      "cell_type": "markdown",
      "metadata": {
        "id": "UYk-_3pq1BgO"
      },
      "source": [
        "----\n",
        "\n",
        "## Post Workshop Exercises\n",
        "\n",
        "\n",
        "We'll now try to apply what we know about decision trees. We are going to use a dataset from the [UCI machine learning archive](http://archive.ics.uci.edu/ml/datasets/Wine+Quality). We'll start with the white wine data. This screen capture shows the details of the columns of the data:\n",
        "\n",
        "![wine_columns](https://raw.githubusercontent.com/BrockDSL/Machine_Learning_with_Python/master/wine_columns.png)\n",
        "\n",
        "We want to create a classification that guesses the quality of the wine based on the first 11 chemical characteristics."
      ]
    },
    {
      "cell_type": "code",
      "execution_count": null,
      "metadata": {
        "scrolled": true,
        "id": "MUpatyKU1BgO"
      },
      "outputs": [],
      "source": [
        "white_wine = pd.read_csv(\"http://archive.ics.uci.edu/ml/machine-learning-databases/wine-quality/winequality-white.csv\",sep=';')\n",
        "white_wine"
      ]
    },
    {
      "cell_type": "markdown",
      "metadata": {
        "id": "p0tV4aJJ1BgO"
      },
      "source": [
        "What features should be in our model? What should our target be? Let's look at our dataframe columns."
      ]
    },
    {
      "cell_type": "code",
      "execution_count": null,
      "metadata": {
        "id": "PzRTqbxm1BgO"
      },
      "outputs": [],
      "source": [
        "white_wine.columns"
      ]
    },
    {
      "cell_type": "markdown",
      "metadata": {
        "id": "P_WKvuXg1BgO"
      },
      "source": [
        "## Q1\n",
        "\n",
        "Let's fill in the `white_wine_features` list variable below"
      ]
    },
    {
      "cell_type": "code",
      "execution_count": null,
      "metadata": {
        "id": "2yX5P7Ka1BgO"
      },
      "outputs": [],
      "source": [
        "#fill in this list\n",
        "white_wine_features = []\n",
        "\n",
        "white_X_features = white_wine[white_wine_features]\n",
        "white_X_features"
      ]
    },
    {
      "cell_type": "markdown",
      "metadata": {
        "id": "thK52zf51BgO"
      },
      "source": [
        "## Q2\n",
        "\n",
        "In the chat box describe what our **target** should be.\n",
        "Complete the assignment for `white_target` below once you have an answer"
      ]
    },
    {
      "cell_type": "code",
      "execution_count": null,
      "metadata": {
        "id": "sQ664Ngc1BgO"
      },
      "outputs": [],
      "source": [
        "#we're looking for the column name\n",
        "white_target = white_wine"
      ]
    },
    {
      "cell_type": "markdown",
      "metadata": {
        "id": "kiZIRLVX1BgO"
      },
      "source": [
        "## Q3\n",
        "Try to come up with a good testing percentage size. Share it with everyone else after you've measured your model."
      ]
    },
    {
      "cell_type": "code",
      "execution_count": null,
      "metadata": {
        "id": "zirGcRtH1BgO"
      },
      "outputs": [],
      "source": [
        "\n",
        "white_test_percent =\n",
        "\n",
        "#Split into training testing\n",
        "X_white_train, X_white_test, y_white_train, y_white_test = train_test_split(white_X_features, \\\n",
        "                                                    white_target, \\\n",
        "                                                    test_size=white_test_percent/100.0,\n",
        "                                                   random_state=10)\n",
        "\n"
      ]
    },
    {
      "cell_type": "markdown",
      "metadata": {
        "id": "zu4Mv0GJ1BgO"
      },
      "source": [
        "**Congratulations!!** You have done the most difficult part of a machine learning task. Understanding the data."
      ]
    },
    {
      "cell_type": "markdown",
      "metadata": {
        "id": "lIC5RaV61BgO"
      },
      "source": [
        "Let's train our model and get our predictions"
      ]
    },
    {
      "cell_type": "code",
      "execution_count": null,
      "metadata": {
        "id": "dlRjmwOF1BgO"
      },
      "outputs": [],
      "source": [
        "# Create Decision Tree classifer object\n",
        "whiteTree = DecisionTreeClassifier()\n",
        "\n",
        "# Train\n",
        "whiteTree = whiteTree.fit(X_white_train,y_white_train)\n",
        "\n",
        "#Predict\n",
        "white_prediction = whiteTree.predict(X_white_test)"
      ]
    },
    {
      "cell_type": "markdown",
      "metadata": {
        "id": "jTkoLqnf1BgO"
      },
      "source": [
        "Let's see how accurate we are..."
      ]
    },
    {
      "cell_type": "code",
      "execution_count": null,
      "metadata": {
        "id": "tp14RS4P1BgP"
      },
      "outputs": [],
      "source": [
        "print(\"Accuracy\")\n",
        "print(metrics.accuracy_score(y_white_test,white_prediction))"
      ]
    },
    {
      "cell_type": "markdown",
      "metadata": {
        "id": "Fd6zyi601BgP"
      },
      "source": [
        "Let's draw out our tree..."
      ]
    },
    {
      "cell_type": "code",
      "execution_count": null,
      "metadata": {
        "id": "5S0mSx6I1BgP"
      },
      "outputs": [],
      "source": [
        "printed_tree = export_text(whiteTree,feature_names=white_wine_features)\n",
        "print(printed_tree)"
      ]
    },
    {
      "cell_type": "markdown",
      "metadata": {
        "id": "vGInZme61BgP"
      },
      "source": [
        "Let's do some predictions with this tree"
      ]
    },
    {
      "cell_type": "code",
      "execution_count": null,
      "metadata": {
        "scrolled": true,
        "id": "lwwWFW3V1BgP"
      },
      "outputs": [],
      "source": [
        "# From line 1408, 8.2;0.22;0.36;6.8;0.034;12;90;0.9944;3.01;0.38;10.5;8\n",
        "white_x_good = [\n",
        "    8.2, #'fixed acidity'\n",
        "    0.22, #'volatile acidity'\n",
        "    0.36, #'citric acid'\n",
        "    6.8, #'residual sugar'\n",
        "    0.034, #'chlorides'\n",
        "    12, #'free sulfur dioxide'\n",
        "    100, #'total sulfur dioxide'\n",
        "    0.0, #'density'\n",
        "    0.9944, #'pH'\n",
        "    0.038, #'sulphates'\n",
        "    10.5  #'alcohol'\n",
        "]\n",
        "\n",
        "white_x_good = pd.DataFrame([white_x_good],columns=X_white_test.columns)\n",
        "whiteTree.predict_proba(white_x_good)\n"
      ]
    },
    {
      "cell_type": "markdown",
      "metadata": {
        "id": "mHEr7Ev41BgP"
      },
      "source": [
        "## Q4\n",
        "\n",
        "The above answer is a list with only 7 options, yet our wine score is from 0-10. Can you come up with why that is the case. Feel free to write you answer in the chat box.\n",
        "\n",
        "If you need a hint, run the following cell."
      ]
    },
    {
      "cell_type": "code",
      "execution_count": null,
      "metadata": {
        "id": "i4hDMOB41BgP"
      },
      "outputs": [],
      "source": [
        "sorted(white_wine[\"quality\"].unique())"
      ]
    },
    {
      "cell_type": "markdown",
      "metadata": {
        "id": "oJsNawcA1BgP"
      },
      "source": [
        "## Q5\n",
        "\n",
        "One more time!\n",
        "\n",
        "(If we have time together we'll try this, if not please give it a shot on your own) Let's try the red wine data, does the classification work better? What is the best score you can get?"
      ]
    },
    {
      "cell_type": "code",
      "execution_count": null,
      "metadata": {
        "scrolled": false,
        "id": "vZfYVd6s1BgP"
      },
      "outputs": [],
      "source": [
        "red_wine = pd.read_csv(\"http://archive.ics.uci.edu/ml/machine-learning-databases/wine-quality/winequality-red.csv\",sep=';')\n",
        "red_wine.columns"
      ]
    },
    {
      "cell_type": "code",
      "execution_count": null,
      "metadata": {
        "id": "O6r4ICnu1BgP"
      },
      "outputs": [],
      "source": [
        "#Set the next 3 variables and the model will run correctly\n",
        "\n",
        "#Create this list, this will be the same as with the white wine\n",
        "red_features = []\n",
        "\n",
        "#What column do we want to target, this will be the same as with the white wine\n",
        "red_target = red_wine.\n",
        "\n",
        "#What is a good testing percentage\n",
        "red_test_percent =\n",
        "\n",
        "\n",
        "#Build and run our model...\n",
        "red_X_features = red_wine[red_features]\n",
        "\n",
        "#Split into training testing\n",
        "X_red_train, X_red_test, y_red_train, y_red_test = train_test_split(red_X_features, \\\n",
        "                                                    red_target, \\\n",
        "                                                    test_size=red_test_percent/100.0, \\\n",
        "                                                    random_state=10)\n",
        "\n",
        "# Create Decision Tree classifer object\n",
        "redTree = DecisionTreeClassifier()\n",
        "\n",
        "# Train\n",
        "redTree = redTree.fit(X_red_train,y_red_train)\n",
        "\n",
        "#Predict\n",
        "red_prediction = redTree.predict(X_red_test)\n",
        "\n",
        "#How good is this model?\n",
        "print(\"Accuracy: \")\n",
        "print(metrics.accuracy_score(y_red_test,red_prediction))\n",
        "\n",
        "#Visualize this tree\n",
        "printed_tree = export_text(redTree,feature_names=red_features)\n",
        "print(printed_tree)"
      ]
    },
    {
      "cell_type": "markdown",
      "metadata": {
        "id": "p2hxzvah1BgP"
      },
      "source": [
        "## Q6\n",
        "\n",
        "Make a prediction with a record from the [red wine data](http://archive.ics.uci.edu/ml/machine-learning-databases/wine-quality/winequality-red.csv). Is it accurate?"
      ]
    },
    {
      "cell_type": "code",
      "execution_count": null,
      "metadata": {
        "id": "KpfbY2YP1BgP"
      },
      "outputs": [],
      "source": [
        "red_x = [\n",
        "    0.0, #'fixed acidity'\n",
        "    0.0, #'volatile acidity'\n",
        "    0.0, #'citric acid'\n",
        "    0.0, #'residual sugar'\n",
        "    0.0, #'chlorides'\n",
        "    0, #'free sulfur dioxide'\n",
        "    0, #'total sulfur dioxide'\n",
        "    0.0, #'density'\n",
        "    0, #'pH'\n",
        "    0, #'sulphates'\n",
        "    1  #'alcohol'\n",
        "]\n",
        "\n",
        "red_x = pd.DataFrame([red_x],columns=X_red_test.columns)\n",
        "redTree.predict_proba(red_x)"
      ]
    },
    {
      "cell_type": "markdown",
      "metadata": {
        "id": "s5GYToHh1BgP"
      },
      "source": [
        "## Sizes and Scores\n",
        "\n",
        "Let's just take a look at our data size and how good our models are"
      ]
    },
    {
      "cell_type": "code",
      "execution_count": null,
      "metadata": {
        "id": "nInoD-Ig1BgP"
      },
      "outputs": [],
      "source": [
        "\n",
        "#white wine data\n",
        "print(\"\")\n",
        "print(\"White Wine Data\")\n",
        "print(\"Records \",len(white_wine))\n",
        "print(\"Accuracy \",metrics.accuracy_score(y_white_test,white_prediction))\n",
        "\n",
        "#red wine data\n",
        "print(\"\")\n",
        "print(\"Red Wine Data\")\n",
        "print(\"Records \",len(red_wine))\n",
        "print(\"Accuracy \",metrics.accuracy_score(y_red_test,red_prediction))"
      ]
    }
  ],
  "metadata": {
    "kernelspec": {
      "display_name": "Python 3",
      "language": "python",
      "name": "python3"
    },
    "language_info": {
      "codemirror_mode": {
        "name": "ipython",
        "version": 3
      },
      "file_extension": ".py",
      "mimetype": "text/x-python",
      "name": "python",
      "nbconvert_exporter": "python",
      "pygments_lexer": "ipython3",
      "version": "3.7.4"
    },
    "colab": {
      "provenance": [],
      "include_colab_link": true
    }
  },
  "nbformat": 4,
  "nbformat_minor": 0
}